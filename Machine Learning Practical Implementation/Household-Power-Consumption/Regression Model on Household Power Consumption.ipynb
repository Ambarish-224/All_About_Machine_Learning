{
 "cells": [
  {
   "cell_type": "markdown",
   "id": "70d754cc",
   "metadata": {},
   "source": [
    "# <span style='color:Red'> Regression Model on Household Electricity Consumption </span> \n",
    "\n",
    "Submitted by:- Ambarish Singh\n"
   ]
  },
  {
   "cell_type": "markdown",
   "id": "afdeae13",
   "metadata": {},
   "source": [
    "\n",
    "## <span style='color:Green'> Problem Statement </span> \n",
    "\n",
    "- Predict the household power counsumtion"
   ]
  },
  {
   "cell_type": "markdown",
   "id": "d0a46ee7",
   "metadata": {},
   "source": [
    "### <span style='color:Green'> Task Peformed in this Notebook:- </span> \n",
    "\n",
    "1. Load Data\n",
    "2. Exploratory data analysis\n",
    "3. Check and remove any special character\n",
    "4. Handle the null Values\n",
    "5. Graphical Analysis\n",
    "6. Check and Handle the outliers\n",
    "7. Train Test Split\n",
    "8. Model building for :\n",
    "\t- Linear Regression\n",
    "\t- Ridge Regression\n",
    "\t- Lasso Regression\n",
    "    - ElasticNet Regression\n",
    "\t- Support Vector Regression\n",
    "\t- Decision Tree Regressor\n",
    "\t- Random Forest Regressor\n",
    "\t- Bagging Regressor\n",
    "9. check for all models:\n",
    "\t- mean_squared_error\n",
    "\t- mean_absolute_error\n",
    "\t- r2_score\n",
    "\t- Adjusted r2_score\n",
    "10. Hyper-Parameter tuning using RandomSearchCV on:\n",
    "\t- Random Forest Regessor\n",
    "\t- Bagging Regressor\n",
    "11. Summary\n",
    "12. Store the best model in pickle file"
   ]
  },
  {
   "cell_type": "markdown",
   "id": "e4be0bc8",
   "metadata": {},
   "source": [
    "### <span style='color:Green'> Description </span> \n",
    "\n",
    "- The dataset is collected from UCI website, provided by Senior Researchers from France.\n",
    "- More then 2 million records\n",
    "- Data of 47 months ranging from December 2006 to November 2010.\n",
    "- Dataset has 9 attributes, out of which 3 are meter readings stating how much electricity unit appliances of various type has consumed.\n"
   ]
  },
  {
   "cell_type": "code",
   "execution_count": 8,
   "id": "0a03334f",
   "metadata": {},
   "outputs": [],
   "source": [
    "## comment\n",
    "## Observation"
   ]
  },
  {
   "cell_type": "markdown",
   "id": "35668742",
   "metadata": {},
   "source": [
    "### <span style='color:Green'> Importing required libraries </span> \n"
   ]
  },
  {
   "cell_type": "code",
   "execution_count": 48,
   "id": "10a6b755",
   "metadata": {},
   "outputs": [],
   "source": [
    "# Data Analysing \n",
    "import pandas as pd\n",
    "import numpy as np\n",
    "\n",
    "# Graphical analysis\n",
    "import matplotlib.pyplot as plt\n",
    "%matplotlib inline\n",
    "import seaborn as sns\n",
    "import warnings\n",
    "warnings.filterwarnings('ignore')\n",
    "\n",
    "# for model building\n",
    "from sklearn.linear_model import LinearRegression,Ridge,Lasso,ElasticNet\n",
    "from sklearn.svm import SVR\n",
    "from sklearn.metrics import accuracy_score,r2_score,mean_squared_error,mean_absolute_error\n",
    "from sklearn.model_selection import train_test_split\n",
    "from sklearn.preprocessing import StandardScaler\n",
    "from sklearn.ensemble import RandomForestRegressor\n",
    "from sklearn.tree import DecisionTreeRegressor\n",
    "from sklearn.ensemble import BaggingRegressor\n",
    "from sklearn.model_selection import RandomizedSearchCV\n",
    "\n",
    "# save the model\n",
    "import pickle\n"
   ]
  },
  {
   "cell_type": "markdown",
   "id": "5d362566",
   "metadata": {},
   "source": [
    "### <span style='color:Green'> Load dataset </span> \n"
   ]
  },
  {
   "cell_type": "code",
   "execution_count": 4,
   "id": "fc8eb606",
   "metadata": {},
   "outputs": [
    {
     "data": {
      "text/html": [
       "<div>\n",
       "<style scoped>\n",
       "    .dataframe tbody tr th:only-of-type {\n",
       "        vertical-align: middle;\n",
       "    }\n",
       "\n",
       "    .dataframe tbody tr th {\n",
       "        vertical-align: top;\n",
       "    }\n",
       "\n",
       "    .dataframe thead th {\n",
       "        text-align: right;\n",
       "    }\n",
       "</style>\n",
       "<table border=\"1\" class=\"dataframe\">\n",
       "  <thead>\n",
       "    <tr style=\"text-align: right;\">\n",
       "      <th></th>\n",
       "      <th>Date</th>\n",
       "      <th>Time</th>\n",
       "      <th>Global_active_power</th>\n",
       "      <th>Global_reactive_power</th>\n",
       "      <th>Voltage</th>\n",
       "      <th>Global_intensity</th>\n",
       "      <th>Sub_metering_1</th>\n",
       "      <th>Sub_metering_2</th>\n",
       "      <th>Sub_metering_3</th>\n",
       "    </tr>\n",
       "  </thead>\n",
       "  <tbody>\n",
       "    <tr>\n",
       "      <th>0</th>\n",
       "      <td>16/12/2006</td>\n",
       "      <td>17:24:00</td>\n",
       "      <td>4.216</td>\n",
       "      <td>0.418</td>\n",
       "      <td>234.840</td>\n",
       "      <td>18.400</td>\n",
       "      <td>0.000</td>\n",
       "      <td>1.000</td>\n",
       "      <td>17.0</td>\n",
       "    </tr>\n",
       "    <tr>\n",
       "      <th>1</th>\n",
       "      <td>16/12/2006</td>\n",
       "      <td>17:25:00</td>\n",
       "      <td>5.360</td>\n",
       "      <td>0.436</td>\n",
       "      <td>233.630</td>\n",
       "      <td>23.000</td>\n",
       "      <td>0.000</td>\n",
       "      <td>1.000</td>\n",
       "      <td>16.0</td>\n",
       "    </tr>\n",
       "    <tr>\n",
       "      <th>2</th>\n",
       "      <td>16/12/2006</td>\n",
       "      <td>17:26:00</td>\n",
       "      <td>5.374</td>\n",
       "      <td>0.498</td>\n",
       "      <td>233.290</td>\n",
       "      <td>23.000</td>\n",
       "      <td>0.000</td>\n",
       "      <td>2.000</td>\n",
       "      <td>17.0</td>\n",
       "    </tr>\n",
       "    <tr>\n",
       "      <th>3</th>\n",
       "      <td>16/12/2006</td>\n",
       "      <td>17:27:00</td>\n",
       "      <td>5.388</td>\n",
       "      <td>0.502</td>\n",
       "      <td>233.740</td>\n",
       "      <td>23.000</td>\n",
       "      <td>0.000</td>\n",
       "      <td>1.000</td>\n",
       "      <td>17.0</td>\n",
       "    </tr>\n",
       "    <tr>\n",
       "      <th>4</th>\n",
       "      <td>16/12/2006</td>\n",
       "      <td>17:28:00</td>\n",
       "      <td>3.666</td>\n",
       "      <td>0.528</td>\n",
       "      <td>235.680</td>\n",
       "      <td>15.800</td>\n",
       "      <td>0.000</td>\n",
       "      <td>1.000</td>\n",
       "      <td>17.0</td>\n",
       "    </tr>\n",
       "  </tbody>\n",
       "</table>\n",
       "</div>"
      ],
      "text/plain": [
       "         Date      Time Global_active_power Global_reactive_power  Voltage  \\\n",
       "0  16/12/2006  17:24:00               4.216                 0.418  234.840   \n",
       "1  16/12/2006  17:25:00               5.360                 0.436  233.630   \n",
       "2  16/12/2006  17:26:00               5.374                 0.498  233.290   \n",
       "3  16/12/2006  17:27:00               5.388                 0.502  233.740   \n",
       "4  16/12/2006  17:28:00               3.666                 0.528  235.680   \n",
       "\n",
       "  Global_intensity Sub_metering_1 Sub_metering_2  Sub_metering_3  \n",
       "0           18.400          0.000          1.000            17.0  \n",
       "1           23.000          0.000          1.000            16.0  \n",
       "2           23.000          0.000          2.000            17.0  \n",
       "3           23.000          0.000          1.000            17.0  \n",
       "4           15.800          0.000          1.000            17.0  "
      ]
     },
     "execution_count": 4,
     "metadata": {},
     "output_type": "execute_result"
    }
   ],
   "source": [
    "## Loading Dataset\n",
    "df = pd.read_csv(r\"household_power_consumption.txt\",sep=';')\n",
    "df.head()"
   ]
  },
  {
   "cell_type": "code",
   "execution_count": 5,
   "id": "010b571b",
   "metadata": {},
   "outputs": [
    {
     "data": {
      "text/plain": [
       "(2075259, 9)"
      ]
     },
     "execution_count": 5,
     "metadata": {},
     "output_type": "execute_result"
    }
   ],
   "source": [
    "## Checking Shape of Dataset\n",
    "df.shape"
   ]
  },
  {
   "cell_type": "markdown",
   "id": "c14bd973",
   "metadata": {},
   "source": [
    "#### <span style='color: blue'> Observations </span>\n",
    "\n",
    "- Data is very big so we have to take small sample for model building"
   ]
  },
  {
   "cell_type": "code",
   "execution_count": 6,
   "id": "eeb44fea",
   "metadata": {},
   "outputs": [],
   "source": [
    "## Creating 60,000 Sample Data from Original dataset\n",
    "df_sample = df.sample(60000)"
   ]
  },
  {
   "cell_type": "code",
   "execution_count": 7,
   "id": "588f4f06",
   "metadata": {},
   "outputs": [
    {
     "data": {
      "text/plain": [
       "(60000, 9)"
      ]
     },
     "execution_count": 7,
     "metadata": {},
     "output_type": "execute_result"
    }
   ],
   "source": [
    "## Checking Sample shape of newly created sample dataset. \n",
    "df_sample.shape"
   ]
  },
  {
   "cell_type": "markdown",
   "id": "18106dd9",
   "metadata": {},
   "source": [
    "#### <span style='color: blue'> Observations </span>\n",
    "\n",
    "- We have taken 60000 samples out of 2 million to build model"
   ]
  },
  {
   "cell_type": "markdown",
   "id": "a9b3b4f5",
   "metadata": {},
   "source": [
    "## <span style='color:Green'> EDA </span>\n"
   ]
  },
  {
   "cell_type": "code",
   "execution_count": 9,
   "id": "fcefd259",
   "metadata": {},
   "outputs": [
    {
     "data": {
      "text/plain": [
       "Index(['Date', 'Time', 'Global_active_power', 'Global_reactive_power',\n",
       "       'Voltage', 'Global_intensity', 'Sub_metering_1', 'Sub_metering_2',\n",
       "       'Sub_metering_3'],\n",
       "      dtype='object')"
      ]
     },
     "execution_count": 9,
     "metadata": {},
     "output_type": "execute_result"
    }
   ],
   "source": [
    "## Checking all Columns Available in a dataset\n",
    "df_sample.columns"
   ]
  },
  {
   "cell_type": "markdown",
   "id": "bbff6589",
   "metadata": {},
   "source": [
    "### <span style='color:Green'> Drop Date and time columns </span>"
   ]
  },
  {
   "cell_type": "code",
   "execution_count": 10,
   "id": "a7116f15",
   "metadata": {},
   "outputs": [],
   "source": [
    "## Droping Unnecessary columns from dataset\n",
    "df_sample.drop(['Date','Time'],axis = 1, inplace = True)"
   ]
  },
  {
   "cell_type": "code",
   "execution_count": 11,
   "id": "05f6caac",
   "metadata": {},
   "outputs": [
    {
     "data": {
      "text/html": [
       "<div>\n",
       "<style scoped>\n",
       "    .dataframe tbody tr th:only-of-type {\n",
       "        vertical-align: middle;\n",
       "    }\n",
       "\n",
       "    .dataframe tbody tr th {\n",
       "        vertical-align: top;\n",
       "    }\n",
       "\n",
       "    .dataframe thead th {\n",
       "        text-align: right;\n",
       "    }\n",
       "</style>\n",
       "<table border=\"1\" class=\"dataframe\">\n",
       "  <thead>\n",
       "    <tr style=\"text-align: right;\">\n",
       "      <th></th>\n",
       "      <th>Global_active_power</th>\n",
       "      <th>Global_reactive_power</th>\n",
       "      <th>Voltage</th>\n",
       "      <th>Global_intensity</th>\n",
       "      <th>Sub_metering_1</th>\n",
       "      <th>Sub_metering_2</th>\n",
       "      <th>Sub_metering_3</th>\n",
       "    </tr>\n",
       "  </thead>\n",
       "  <tbody>\n",
       "    <tr>\n",
       "      <th>1773</th>\n",
       "      <td>0.914</td>\n",
       "      <td>0.206</td>\n",
       "      <td>246.160</td>\n",
       "      <td>3.800</td>\n",
       "      <td>0.000</td>\n",
       "      <td>0.000</td>\n",
       "      <td>0.0</td>\n",
       "    </tr>\n",
       "    <tr>\n",
       "      <th>1874584</th>\n",
       "      <td>0.346</td>\n",
       "      <td>0.000</td>\n",
       "      <td>240.160</td>\n",
       "      <td>1.400</td>\n",
       "      <td>0.000</td>\n",
       "      <td>0.000</td>\n",
       "      <td>0.0</td>\n",
       "    </tr>\n",
       "    <tr>\n",
       "      <th>604094</th>\n",
       "      <td>0.296</td>\n",
       "      <td>0.082</td>\n",
       "      <td>244.350</td>\n",
       "      <td>1.200</td>\n",
       "      <td>0.000</td>\n",
       "      <td>0.000</td>\n",
       "      <td>0.0</td>\n",
       "    </tr>\n",
       "    <tr>\n",
       "      <th>1998496</th>\n",
       "      <td>0.474</td>\n",
       "      <td>0.000</td>\n",
       "      <td>240.940</td>\n",
       "      <td>2.000</td>\n",
       "      <td>0.000</td>\n",
       "      <td>2.000</td>\n",
       "      <td>0.0</td>\n",
       "    </tr>\n",
       "    <tr>\n",
       "      <th>1636101</th>\n",
       "      <td>2.670</td>\n",
       "      <td>0.118</td>\n",
       "      <td>236.060</td>\n",
       "      <td>11.200</td>\n",
       "      <td>0.000</td>\n",
       "      <td>1.000</td>\n",
       "      <td>18.0</td>\n",
       "    </tr>\n",
       "  </tbody>\n",
       "</table>\n",
       "</div>"
      ],
      "text/plain": [
       "        Global_active_power Global_reactive_power  Voltage Global_intensity  \\\n",
       "1773                  0.914                 0.206  246.160            3.800   \n",
       "1874584               0.346                 0.000  240.160            1.400   \n",
       "604094                0.296                 0.082  244.350            1.200   \n",
       "1998496               0.474                 0.000  240.940            2.000   \n",
       "1636101               2.670                 0.118  236.060           11.200   \n",
       "\n",
       "        Sub_metering_1 Sub_metering_2  Sub_metering_3  \n",
       "1773             0.000          0.000             0.0  \n",
       "1874584          0.000          0.000             0.0  \n",
       "604094           0.000          0.000             0.0  \n",
       "1998496          0.000          2.000             0.0  \n",
       "1636101          0.000          1.000            18.0  "
      ]
     },
     "execution_count": 11,
     "metadata": {},
     "output_type": "execute_result"
    }
   ],
   "source": [
    "## checking Top 5 rows from dataset\n",
    "df_sample.head()"
   ]
  },
  {
   "cell_type": "markdown",
   "id": "2223152e",
   "metadata": {},
   "source": [
    "### <span style='color:Green'>Check any special character </span>"
   ]
  },
  {
   "cell_type": "code",
   "execution_count": 12,
   "id": "1f6aa491",
   "metadata": {},
   "outputs": [
    {
     "data": {
      "text/html": [
       "<div>\n",
       "<style scoped>\n",
       "    .dataframe tbody tr th:only-of-type {\n",
       "        vertical-align: middle;\n",
       "    }\n",
       "\n",
       "    .dataframe tbody tr th {\n",
       "        vertical-align: top;\n",
       "    }\n",
       "\n",
       "    .dataframe thead th {\n",
       "        text-align: right;\n",
       "    }\n",
       "</style>\n",
       "<table border=\"1\" class=\"dataframe\">\n",
       "  <thead>\n",
       "    <tr style=\"text-align: right;\">\n",
       "      <th></th>\n",
       "      <th>Global_active_power</th>\n",
       "      <th>Global_reactive_power</th>\n",
       "      <th>Voltage</th>\n",
       "      <th>Global_intensity</th>\n",
       "      <th>Sub_metering_1</th>\n",
       "      <th>Sub_metering_2</th>\n",
       "      <th>Sub_metering_3</th>\n",
       "    </tr>\n",
       "  </thead>\n",
       "  <tbody>\n",
       "    <tr>\n",
       "      <th>1931833</th>\n",
       "      <td>?</td>\n",
       "      <td>?</td>\n",
       "      <td>?</td>\n",
       "      <td>?</td>\n",
       "      <td>?</td>\n",
       "      <td>?</td>\n",
       "      <td>NaN</td>\n",
       "    </tr>\n",
       "    <tr>\n",
       "      <th>1985001</th>\n",
       "      <td>?</td>\n",
       "      <td>?</td>\n",
       "      <td>?</td>\n",
       "      <td>?</td>\n",
       "      <td>?</td>\n",
       "      <td>?</td>\n",
       "      <td>NaN</td>\n",
       "    </tr>\n",
       "    <tr>\n",
       "      <th>1713833</th>\n",
       "      <td>?</td>\n",
       "      <td>?</td>\n",
       "      <td>?</td>\n",
       "      <td>?</td>\n",
       "      <td>?</td>\n",
       "      <td>?</td>\n",
       "      <td>NaN</td>\n",
       "    </tr>\n",
       "    <tr>\n",
       "      <th>1987508</th>\n",
       "      <td>?</td>\n",
       "      <td>?</td>\n",
       "      <td>?</td>\n",
       "      <td>?</td>\n",
       "      <td>?</td>\n",
       "      <td>?</td>\n",
       "      <td>NaN</td>\n",
       "    </tr>\n",
       "    <tr>\n",
       "      <th>192536</th>\n",
       "      <td>?</td>\n",
       "      <td>?</td>\n",
       "      <td>?</td>\n",
       "      <td>?</td>\n",
       "      <td>?</td>\n",
       "      <td>?</td>\n",
       "      <td>NaN</td>\n",
       "    </tr>\n",
       "    <tr>\n",
       "      <th>...</th>\n",
       "      <td>...</td>\n",
       "      <td>...</td>\n",
       "      <td>...</td>\n",
       "      <td>...</td>\n",
       "      <td>...</td>\n",
       "      <td>...</td>\n",
       "      <td>...</td>\n",
       "    </tr>\n",
       "    <tr>\n",
       "      <th>1930378</th>\n",
       "      <td>?</td>\n",
       "      <td>?</td>\n",
       "      <td>?</td>\n",
       "      <td>?</td>\n",
       "      <td>?</td>\n",
       "      <td>?</td>\n",
       "      <td>NaN</td>\n",
       "    </tr>\n",
       "    <tr>\n",
       "      <th>1988688</th>\n",
       "      <td>?</td>\n",
       "      <td>?</td>\n",
       "      <td>?</td>\n",
       "      <td>?</td>\n",
       "      <td>?</td>\n",
       "      <td>?</td>\n",
       "      <td>NaN</td>\n",
       "    </tr>\n",
       "    <tr>\n",
       "      <th>1988393</th>\n",
       "      <td>?</td>\n",
       "      <td>?</td>\n",
       "      <td>?</td>\n",
       "      <td>?</td>\n",
       "      <td>?</td>\n",
       "      <td>?</td>\n",
       "      <td>NaN</td>\n",
       "    </tr>\n",
       "    <tr>\n",
       "      <th>1619355</th>\n",
       "      <td>?</td>\n",
       "      <td>?</td>\n",
       "      <td>?</td>\n",
       "      <td>?</td>\n",
       "      <td>?</td>\n",
       "      <td>?</td>\n",
       "      <td>NaN</td>\n",
       "    </tr>\n",
       "    <tr>\n",
       "      <th>1934148</th>\n",
       "      <td>?</td>\n",
       "      <td>?</td>\n",
       "      <td>?</td>\n",
       "      <td>?</td>\n",
       "      <td>?</td>\n",
       "      <td>?</td>\n",
       "      <td>NaN</td>\n",
       "    </tr>\n",
       "  </tbody>\n",
       "</table>\n",
       "<p>739 rows × 7 columns</p>\n",
       "</div>"
      ],
      "text/plain": [
       "        Global_active_power Global_reactive_power Voltage Global_intensity  \\\n",
       "1931833                   ?                     ?       ?                ?   \n",
       "1985001                   ?                     ?       ?                ?   \n",
       "1713833                   ?                     ?       ?                ?   \n",
       "1987508                   ?                     ?       ?                ?   \n",
       "192536                    ?                     ?       ?                ?   \n",
       "...                     ...                   ...     ...              ...   \n",
       "1930378                   ?                     ?       ?                ?   \n",
       "1988688                   ?                     ?       ?                ?   \n",
       "1988393                   ?                     ?       ?                ?   \n",
       "1619355                   ?                     ?       ?                ?   \n",
       "1934148                   ?                     ?       ?                ?   \n",
       "\n",
       "        Sub_metering_1 Sub_metering_2  Sub_metering_3  \n",
       "1931833              ?              ?             NaN  \n",
       "1985001              ?              ?             NaN  \n",
       "1713833              ?              ?             NaN  \n",
       "1987508              ?              ?             NaN  \n",
       "192536               ?              ?             NaN  \n",
       "...                ...            ...             ...  \n",
       "1930378              ?              ?             NaN  \n",
       "1988688              ?              ?             NaN  \n",
       "1988393              ?              ?             NaN  \n",
       "1619355              ?              ?             NaN  \n",
       "1934148              ?              ?             NaN  \n",
       "\n",
       "[739 rows x 7 columns]"
      ]
     },
     "execution_count": 12,
     "metadata": {},
     "output_type": "execute_result"
    }
   ],
   "source": [
    "## Checking any special character are present in a dataset or not.\n",
    "special_char = df_sample[df_sample['Voltage'] == \"?\"]\n",
    "special_char"
   ]
  },
  {
   "cell_type": "markdown",
   "id": "8a6ce27f",
   "metadata": {},
   "source": [
    "### <span style='color:Green'> Drop these records having special character </span>\n"
   ]
  },
  {
   "cell_type": "code",
   "execution_count": 13,
   "id": "b4a55eb5",
   "metadata": {},
   "outputs": [
    {
     "name": "stdout",
     "output_type": "stream",
     "text": [
      "Data before special characters (60000, 7)\n",
      "Data before removal of special characters (59261, 7)\n"
     ]
    }
   ],
   "source": [
    "print(\"Data before special characters\", df_sample.shape)\n",
    "df_sample.drop(special_char.index,axis= 0,inplace=True)\n",
    "print(\"Data before removal of special characters\", df_sample.shape)"
   ]
  },
  {
   "cell_type": "markdown",
   "id": "79969e86",
   "metadata": {},
   "source": [
    "### <span style='color:Green'> Check duplicated </span>\n"
   ]
  },
  {
   "cell_type": "code",
   "execution_count": 14,
   "id": "262e871c",
   "metadata": {},
   "outputs": [
    {
     "data": {
      "text/plain": [
       "276"
      ]
     },
     "execution_count": 14,
     "metadata": {},
     "output_type": "execute_result"
    }
   ],
   "source": [
    "## Checking Total Duplicate rows present in a dataset.\n",
    "df_sample.duplicated().sum()"
   ]
  },
  {
   "cell_type": "code",
   "execution_count": 15,
   "id": "3a5c2e2d",
   "metadata": {},
   "outputs": [
    {
     "name": "stdout",
     "output_type": "stream",
     "text": [
      "Data before duplicate records (59261, 7)\n",
      "Data after removal of duplicate records (58985, 7)\n"
     ]
    }
   ],
   "source": [
    "## Droping Duplicate Rows from dataset and also checking shape of dataset.\n",
    "print(\"Data before duplicate records\", df_sample.shape)\n",
    "df_sample.drop_duplicates(inplace=True)\n",
    "print(\"Data after removal of duplicate records\", df_sample.shape)"
   ]
  },
  {
   "cell_type": "markdown",
   "id": "5c60c0ef",
   "metadata": {},
   "source": [
    "### <span style='color:Green'> Check the null values </span>"
   ]
  },
  {
   "cell_type": "code",
   "execution_count": 17,
   "id": "96a6c54f",
   "metadata": {},
   "outputs": [
    {
     "data": {
      "text/plain": [
       "Global_active_power      0\n",
       "Global_reactive_power    0\n",
       "Voltage                  0\n",
       "Global_intensity         0\n",
       "Sub_metering_1           0\n",
       "Sub_metering_2           0\n",
       "Sub_metering_3           0\n",
       "dtype: int64"
      ]
     },
     "execution_count": 17,
     "metadata": {},
     "output_type": "execute_result"
    }
   ],
   "source": [
    "## Checking Total Null Value present in a dataset.\n",
    "df_sample.isna().sum()"
   ]
  },
  {
   "cell_type": "markdown",
   "id": "8bdae932",
   "metadata": {},
   "source": [
    "#### <span style='color: blue'> Observations </span>\n",
    "\n",
    "- No Null Value"
   ]
  },
  {
   "cell_type": "markdown",
   "id": "1887ec26",
   "metadata": {},
   "source": [
    "### <span style='color:Green'> Convert all dtypes to float </span>"
   ]
  },
  {
   "cell_type": "code",
   "execution_count": 18,
   "id": "c960c891",
   "metadata": {},
   "outputs": [
    {
     "data": {
      "text/plain": [
       "Global_active_power       object\n",
       "Global_reactive_power     object\n",
       "Voltage                   object\n",
       "Global_intensity          object\n",
       "Sub_metering_1            object\n",
       "Sub_metering_2            object\n",
       "Sub_metering_3           float64\n",
       "dtype: object"
      ]
     },
     "execution_count": 18,
     "metadata": {},
     "output_type": "execute_result"
    }
   ],
   "source": [
    "## Checking dtypes for all Columns present in a dataset\n",
    "df_sample.dtypes"
   ]
  },
  {
   "cell_type": "code",
   "execution_count": 19,
   "id": "d97f6c6e",
   "metadata": {},
   "outputs": [],
   "source": [
    "## Converting all Columns dtype to Float type\n",
    "df_sample = df_sample.astype(float)"
   ]
  },
  {
   "cell_type": "code",
   "execution_count": 20,
   "id": "aaae132a",
   "metadata": {},
   "outputs": [
    {
     "data": {
      "text/plain": [
       "Global_active_power      float64\n",
       "Global_reactive_power    float64\n",
       "Voltage                  float64\n",
       "Global_intensity         float64\n",
       "Sub_metering_1           float64\n",
       "Sub_metering_2           float64\n",
       "Sub_metering_3           float64\n",
       "dtype: object"
      ]
     },
     "execution_count": 20,
     "metadata": {},
     "output_type": "execute_result"
    }
   ],
   "source": [
    "## Checking dtypes after converting all columns dtype to float\n",
    "df_sample.dtypes"
   ]
  },
  {
   "cell_type": "markdown",
   "id": "3739ea0b",
   "metadata": {},
   "source": [
    "### <span style='color:Green'> Combine reading of sub_metering_1,sub_metering_2 and sub_metering_3 </span>"
   ]
  },
  {
   "cell_type": "code",
   "execution_count": 21,
   "id": "2132fb1c",
   "metadata": {},
   "outputs": [
    {
     "data": {
      "text/plain": [
       "Index(['Global_active_power', 'Global_reactive_power', 'Voltage',\n",
       "       'Global_intensity', 'Sub_metering_1', 'Sub_metering_2',\n",
       "       'Sub_metering_3'],\n",
       "      dtype='object')"
      ]
     },
     "execution_count": 21,
     "metadata": {},
     "output_type": "execute_result"
    }
   ],
   "source": [
    "## Checking all Columns name Present in a dataset\n",
    "df_sample.columns"
   ]
  },
  {
   "cell_type": "code",
   "execution_count": 22,
   "id": "81d8e736",
   "metadata": {},
   "outputs": [],
   "source": [
    "## Combining 3 submeter into one main meter.\n",
    "df_sample['meter'] =df_sample['Sub_metering_1'] + df_sample['Sub_metering_2'] + df_sample['Sub_metering_3']"
   ]
  },
  {
   "cell_type": "markdown",
   "id": "83d2af75",
   "metadata": {},
   "source": [
    "### <span style='color:green'> Drop 3 columns </span>"
   ]
  },
  {
   "cell_type": "code",
   "execution_count": 23,
   "id": "81b68462",
   "metadata": {},
   "outputs": [],
   "source": [
    "## Droping 3 Sub-meter columns from dataset.\n",
    "df_sample.drop(['Sub_metering_1','Sub_metering_2','Sub_metering_3'],axis = 1,inplace = True)"
   ]
  },
  {
   "cell_type": "code",
   "execution_count": 24,
   "id": "bc333d32",
   "metadata": {},
   "outputs": [
    {
     "data": {
      "text/html": [
       "<div>\n",
       "<style scoped>\n",
       "    .dataframe tbody tr th:only-of-type {\n",
       "        vertical-align: middle;\n",
       "    }\n",
       "\n",
       "    .dataframe tbody tr th {\n",
       "        vertical-align: top;\n",
       "    }\n",
       "\n",
       "    .dataframe thead th {\n",
       "        text-align: right;\n",
       "    }\n",
       "</style>\n",
       "<table border=\"1\" class=\"dataframe\">\n",
       "  <thead>\n",
       "    <tr style=\"text-align: right;\">\n",
       "      <th></th>\n",
       "      <th>Global_active_power</th>\n",
       "      <th>Global_reactive_power</th>\n",
       "      <th>Voltage</th>\n",
       "      <th>Global_intensity</th>\n",
       "      <th>meter</th>\n",
       "    </tr>\n",
       "  </thead>\n",
       "  <tbody>\n",
       "    <tr>\n",
       "      <th>1773</th>\n",
       "      <td>0.914</td>\n",
       "      <td>0.206</td>\n",
       "      <td>246.16</td>\n",
       "      <td>3.8</td>\n",
       "      <td>0.0</td>\n",
       "    </tr>\n",
       "    <tr>\n",
       "      <th>1874584</th>\n",
       "      <td>0.346</td>\n",
       "      <td>0.000</td>\n",
       "      <td>240.16</td>\n",
       "      <td>1.4</td>\n",
       "      <td>0.0</td>\n",
       "    </tr>\n",
       "    <tr>\n",
       "      <th>604094</th>\n",
       "      <td>0.296</td>\n",
       "      <td>0.082</td>\n",
       "      <td>244.35</td>\n",
       "      <td>1.2</td>\n",
       "      <td>0.0</td>\n",
       "    </tr>\n",
       "    <tr>\n",
       "      <th>1998496</th>\n",
       "      <td>0.474</td>\n",
       "      <td>0.000</td>\n",
       "      <td>240.94</td>\n",
       "      <td>2.0</td>\n",
       "      <td>2.0</td>\n",
       "    </tr>\n",
       "    <tr>\n",
       "      <th>1636101</th>\n",
       "      <td>2.670</td>\n",
       "      <td>0.118</td>\n",
       "      <td>236.06</td>\n",
       "      <td>11.2</td>\n",
       "      <td>19.0</td>\n",
       "    </tr>\n",
       "  </tbody>\n",
       "</table>\n",
       "</div>"
      ],
      "text/plain": [
       "         Global_active_power  Global_reactive_power  Voltage  \\\n",
       "1773                   0.914                  0.206   246.16   \n",
       "1874584                0.346                  0.000   240.16   \n",
       "604094                 0.296                  0.082   244.35   \n",
       "1998496                0.474                  0.000   240.94   \n",
       "1636101                2.670                  0.118   236.06   \n",
       "\n",
       "         Global_intensity  meter  \n",
       "1773                  3.8    0.0  \n",
       "1874584               1.4    0.0  \n",
       "604094                1.2    0.0  \n",
       "1998496               2.0    2.0  \n",
       "1636101              11.2   19.0  "
      ]
     },
     "execution_count": 24,
     "metadata": {},
     "output_type": "execute_result"
    }
   ],
   "source": [
    "## Checking top 5 rows from dataset\n",
    "df_sample.head()"
   ]
  },
  {
   "cell_type": "code",
   "execution_count": 25,
   "id": "fb2ea306",
   "metadata": {},
   "outputs": [
    {
     "data": {
      "text/html": [
       "<div>\n",
       "<style scoped>\n",
       "    .dataframe tbody tr th:only-of-type {\n",
       "        vertical-align: middle;\n",
       "    }\n",
       "\n",
       "    .dataframe tbody tr th {\n",
       "        vertical-align: top;\n",
       "    }\n",
       "\n",
       "    .dataframe thead th {\n",
       "        text-align: right;\n",
       "    }\n",
       "</style>\n",
       "<table border=\"1\" class=\"dataframe\">\n",
       "  <thead>\n",
       "    <tr style=\"text-align: right;\">\n",
       "      <th></th>\n",
       "      <th>count</th>\n",
       "      <th>mean</th>\n",
       "      <th>std</th>\n",
       "      <th>min</th>\n",
       "      <th>25%</th>\n",
       "      <th>50%</th>\n",
       "      <th>75%</th>\n",
       "      <th>max</th>\n",
       "    </tr>\n",
       "  </thead>\n",
       "  <tbody>\n",
       "    <tr>\n",
       "      <th>Global_active_power</th>\n",
       "      <td>58985.0</td>\n",
       "      <td>1.104116</td>\n",
       "      <td>1.068752</td>\n",
       "      <td>0.078</td>\n",
       "      <td>0.310</td>\n",
       "      <td>0.618</td>\n",
       "      <td>1.536</td>\n",
       "      <td>9.732</td>\n",
       "    </tr>\n",
       "    <tr>\n",
       "      <th>Global_reactive_power</th>\n",
       "      <td>58985.0</td>\n",
       "      <td>0.123839</td>\n",
       "      <td>0.112869</td>\n",
       "      <td>0.000</td>\n",
       "      <td>0.048</td>\n",
       "      <td>0.100</td>\n",
       "      <td>0.194</td>\n",
       "      <td>1.040</td>\n",
       "    </tr>\n",
       "    <tr>\n",
       "      <th>Voltage</th>\n",
       "      <td>58985.0</td>\n",
       "      <td>240.829027</td>\n",
       "      <td>3.239738</td>\n",
       "      <td>225.250</td>\n",
       "      <td>239.000</td>\n",
       "      <td>240.990</td>\n",
       "      <td>242.860</td>\n",
       "      <td>253.530</td>\n",
       "    </tr>\n",
       "    <tr>\n",
       "      <th>Global_intensity</th>\n",
       "      <td>58985.0</td>\n",
       "      <td>4.680766</td>\n",
       "      <td>4.495246</td>\n",
       "      <td>0.200</td>\n",
       "      <td>1.400</td>\n",
       "      <td>2.800</td>\n",
       "      <td>6.400</td>\n",
       "      <td>42.000</td>\n",
       "    </tr>\n",
       "    <tr>\n",
       "      <th>meter</th>\n",
       "      <td>58985.0</td>\n",
       "      <td>8.983013</td>\n",
       "      <td>13.037285</td>\n",
       "      <td>0.000</td>\n",
       "      <td>0.000</td>\n",
       "      <td>1.000</td>\n",
       "      <td>18.000</td>\n",
       "      <td>133.000</td>\n",
       "    </tr>\n",
       "  </tbody>\n",
       "</table>\n",
       "</div>"
      ],
      "text/plain": [
       "                         count        mean        std      min      25%  \\\n",
       "Global_active_power    58985.0    1.104116   1.068752    0.078    0.310   \n",
       "Global_reactive_power  58985.0    0.123839   0.112869    0.000    0.048   \n",
       "Voltage                58985.0  240.829027   3.239738  225.250  239.000   \n",
       "Global_intensity       58985.0    4.680766   4.495246    0.200    1.400   \n",
       "meter                  58985.0    8.983013  13.037285    0.000    0.000   \n",
       "\n",
       "                           50%      75%      max  \n",
       "Global_active_power      0.618    1.536    9.732  \n",
       "Global_reactive_power    0.100    0.194    1.040  \n",
       "Voltage                240.990  242.860  253.530  \n",
       "Global_intensity         2.800    6.400   42.000  \n",
       "meter                    1.000   18.000  133.000  "
      ]
     },
     "execution_count": 25,
     "metadata": {},
     "output_type": "execute_result"
    }
   ],
   "source": [
    "## Checking basic Statistics method with the help of Describe()\n",
    "df_sample.describe().T"
   ]
  },
  {
   "cell_type": "markdown",
   "id": "78b3890d",
   "metadata": {},
   "source": [
    "### <span style='color:Green'> Graphical Representation </span>\n"
   ]
  },
  {
   "cell_type": "code",
   "execution_count": 28,
   "id": "82e870ca",
   "metadata": {},
   "outputs": [
    {
     "data": {
      "image/png": "[encoded data removed]",
      "text/plain": [
       "<Figure size 1296x1080 with 5 Axes>"
      ]
     },
     "metadata": {},
     "output_type": "display_data"
    }
   ],
   "source": [
    "## Let's see data distribution in each column\n",
    "\n",
    "plt.figure(figsize=(18,15), facecolor='green')\n",
    "plotnumber = 1\n",
    "\n",
    "for column in df_sample.columns[:]:\n",
    "    if plotnumber<=5 :\n",
    "        ax = plt.subplot(3,2,plotnumber)\n",
    "        sns.distplot(df_sample[column])\n",
    "        plt.xlabel(column,fontsize=20)\n",
    "    plotnumber+=1\n",
    "plt.show()"
   ]
  },
  {
   "cell_type": "markdown",
   "id": "b207ce3c",
   "metadata": {},
   "source": [
    "### <span style='color:Green'> Check the outliers </span>\n"
   ]
  },
  {
   "cell_type": "code",
   "execution_count": 33,
   "id": "ec15b7a2",
   "metadata": {},
   "outputs": [
    {
     "data": {
      "image/png": "[encoded data removed]",
      "text/plain": [
       "<Figure size 1080x1440 with 5 Axes>"
      ]
     },
     "metadata": {},
     "output_type": "display_data"
    }
   ],
   "source": [
    "## Checking Outlier in Dataset\n",
    "plt.figure(figsize=(15,20),facecolor='pink')\n",
    "plt.suptitle(\"Boxplot of all features\", fontweight = 'bold', fontsize = 15,y = 0.989)\n",
    "for i in range(0,len(df_sample.columns)):\n",
    "    plt.subplot(5,3,i+1)\n",
    "    sns.boxplot(x = df_sample.columns[i], data = df_sample)\n",
    "    plt.xlabel(\"Boxplot of {}\".format(df_sample.columns[i]),fontsize = 15)\n",
    "    plt.tight_layout()"
   ]
  },
  {
   "cell_type": "code",
   "execution_count": 68,
   "id": "29fd5bb1",
   "metadata": {},
   "outputs": [
    {
     "data": {
      "image/png": "[encoded data removed]",
      "text/plain": [
       "<Figure size 1008x288 with 2 Axes>"
      ]
     },
     "metadata": {},
     "output_type": "display_data"
    },
    {
     "data": {
      "image/png": "[encoded data removed]",
      "text/plain": [
       "<Figure size 1008x288 with 2 Axes>"
      ]
     },
     "metadata": {},
     "output_type": "display_data"
    },
    {
     "data": {
      "image/png": "[encoded data removed]",
      "text/plain": [
       "<Figure size 1008x288 with 2 Axes>"
      ]
     },
     "metadata": {},
     "output_type": "display_data"
    },
    {
     "data": {
      "image/png": "[encoded data removed]",
      "text/plain": [
       "<Figure size 1008x288 with 2 Axes>"
      ]
     },
     "metadata": {},
     "output_type": "display_data"
    },
    {
     "data": {
      "image/png": "[encoded data removed]",
      "text/plain": [
       "<Figure size 1008x288 with 2 Axes>"
      ]
     },
     "metadata": {},
     "output_type": "display_data"
    }
   ],
   "source": [
    "## Handling the outliers\n",
    "df1 = df_sample.copy()\n",
    "feature_to_use = df1.columns\n",
    "\n",
    "for i in range(len(feature_to_use)):\n",
    "    IQR = df1[feature_to_use[i]].quantile(0.75) - df1[feature_to_use[i]].quantile(0.25)\n",
    "    Lower_Limit = df1[feature_to_use[i]].quantile(0.25) - (1.5*IQR)\n",
    "    UPPER_LIMIT = df1[feature_to_use[i]].quantile(0.75) + (1.5*IQR)\n",
    "    df1[feature_to_use[i]]= np.where(df1[feature_to_use[i]]>UPPER_LIMIT,UPPER_LIMIT,\n",
    "                                np.where(df1[feature_to_use[i]]<Lower_Limit,Lower_Limit,df1[feature_to_use[i]]))\n",
    "\n",
    "\n",
    "for fea in feature_to_use:\n",
    "    plt.figure(figsize = (14,4),facecolor='pink')\n",
    "    plt.subplot(121)\n",
    "    sns.boxplot(x = fea, data = df_sample)\n",
    "    plt.title(\"Boxplot of {} before handling outliers\".format(fea),fontweight = 'bold')\n",
    "\n",
    "    plt.subplot(122)\n",
    "    sns.boxplot(x = fea, data = df1)\n",
    "    plt.title(\"Boxplot of {} After handling outliers\".format(fea),fontweight = 'bold')\n",
    "    plt.show()"
   ]
  },
  {
   "cell_type": "markdown",
   "id": "140fdd11",
   "metadata": {},
   "source": [
    "## <span style='color:Green'> Seperate Independent and Dependent Features </span>\n"
   ]
  },
  {
   "cell_type": "code",
   "execution_count": 37,
   "id": "d5f9e893",
   "metadata": {},
   "outputs": [],
   "source": [
    "x = df1.drop('meter', axis = 1)\n",
    "y = df1['meter']"
   ]
  },
  {
   "cell_type": "code",
   "execution_count": 40,
   "id": "f9b1911e",
   "metadata": {},
   "outputs": [
    {
     "data": {
      "text/plain": [
       "((58985, 4), (58985,))"
      ]
     },
     "execution_count": 40,
     "metadata": {},
     "output_type": "execute_result"
    }
   ],
   "source": [
    "## Cheking Shape of x and y \n",
    "x.shape, y.shape"
   ]
  },
  {
   "cell_type": "markdown",
   "id": "79bd3898",
   "metadata": {},
   "source": [
    "## <span style='color:Green'> Train Test Split </span>"
   ]
  },
  {
   "cell_type": "code",
   "execution_count": 41,
   "id": "ecde5075",
   "metadata": {},
   "outputs": [],
   "source": [
    "x_train,x_test,y_train,y_test = train_test_split(x,y,test_size = 0.33,random_state = 42 )"
   ]
  },
  {
   "cell_type": "code",
   "execution_count": 44,
   "id": "64226173",
   "metadata": {},
   "outputs": [
    {
     "data": {
      "text/plain": [
       "((39519, 4), (39519,))"
      ]
     },
     "execution_count": 44,
     "metadata": {},
     "output_type": "execute_result"
    }
   ],
   "source": [
    "## Ckecking the shape of Training Data\n",
    "x_train.shape,y_train.shape"
   ]
  },
  {
   "cell_type": "code",
   "execution_count": 45,
   "id": "fd3b12af",
   "metadata": {},
   "outputs": [
    {
     "data": {
      "text/plain": [
       "((19466, 4), (19466,))"
      ]
     },
     "execution_count": 45,
     "metadata": {},
     "output_type": "execute_result"
    }
   ],
   "source": [
    "## Ckecking the shape of Testing Data\n",
    "x_test.shape,y_test.shape"
   ]
  },
  {
   "cell_type": "markdown",
   "id": "081c5b6a",
   "metadata": {},
   "source": [
    "## <span style='color:Green'> Standardization </span>\n"
   ]
  },
  {
   "cell_type": "code",
   "execution_count": 46,
   "id": "da5b133c",
   "metadata": {},
   "outputs": [],
   "source": [
    "scaler = StandardScaler()\n",
    "x_train = scaler.fit_transform(x_train)\n",
    "x_test = scaler.fit_transform(x_test)"
   ]
  },
  {
   "cell_type": "markdown",
   "id": "80cbc61f",
   "metadata": {},
   "source": [
    "# <span style='color:red'> Model Building </span>"
   ]
  },
  {
   "cell_type": "code",
   "execution_count": 47,
   "id": "1976ed00",
   "metadata": {},
   "outputs": [],
   "source": [
    "report = []"
   ]
  },
  {
   "cell_type": "code",
   "execution_count": 49,
   "id": "18054044",
   "metadata": {},
   "outputs": [
    {
     "data": {
      "text/html": [
       "<div>\n",
       "<style scoped>\n",
       "    .dataframe tbody tr th:only-of-type {\n",
       "        vertical-align: middle;\n",
       "    }\n",
       "\n",
       "    .dataframe tbody tr th {\n",
       "        vertical-align: top;\n",
       "    }\n",
       "\n",
       "    .dataframe thead th {\n",
       "        text-align: right;\n",
       "    }\n",
       "</style>\n",
       "<table border=\"1\" class=\"dataframe\">\n",
       "  <thead>\n",
       "    <tr style=\"text-align: right;\">\n",
       "      <th></th>\n",
       "      <th>model</th>\n",
       "      <th>Train Mean Squared Error</th>\n",
       "      <th>Test Mean Squared Error</th>\n",
       "      <th>Train Mean Absolute Error</th>\n",
       "      <th>Test Mean Absolute Error</th>\n",
       "      <th>Train R Sqaure</th>\n",
       "      <th>Test R Sqaure</th>\n",
       "      <th>Train Adj R Sqaure</th>\n",
       "      <th>Test Adj R Sqaure</th>\n",
       "    </tr>\n",
       "  </thead>\n",
       "  <tbody>\n",
       "    <tr>\n",
       "      <th>0</th>\n",
       "      <td>Linear Regression</td>\n",
       "      <td>40.317066</td>\n",
       "      <td>38.626226</td>\n",
       "      <td>4.227816</td>\n",
       "      <td>4.118774</td>\n",
       "      <td>0.692251</td>\n",
       "      <td>0.697878</td>\n",
       "      <td>0.692220</td>\n",
       "      <td>0.697816</td>\n",
       "    </tr>\n",
       "    <tr>\n",
       "      <th>1</th>\n",
       "      <td>Ridge Regression</td>\n",
       "      <td>40.317870</td>\n",
       "      <td>38.619047</td>\n",
       "      <td>4.226963</td>\n",
       "      <td>4.117645</td>\n",
       "      <td>0.692245</td>\n",
       "      <td>0.697934</td>\n",
       "      <td>0.692214</td>\n",
       "      <td>0.697872</td>\n",
       "    </tr>\n",
       "    <tr>\n",
       "      <th>2</th>\n",
       "      <td>Lasso Regression</td>\n",
       "      <td>42.259282</td>\n",
       "      <td>40.205873</td>\n",
       "      <td>4.489305</td>\n",
       "      <td>4.388920</td>\n",
       "      <td>0.677426</td>\n",
       "      <td>0.685522</td>\n",
       "      <td>0.677393</td>\n",
       "      <td>0.685458</td>\n",
       "    </tr>\n",
       "    <tr>\n",
       "      <th>3</th>\n",
       "      <td>ElasticNet Regression</td>\n",
       "      <td>46.791558</td>\n",
       "      <td>44.627403</td>\n",
       "      <td>5.048629</td>\n",
       "      <td>4.955296</td>\n",
       "      <td>0.642830</td>\n",
       "      <td>0.650939</td>\n",
       "      <td>0.642794</td>\n",
       "      <td>0.650867</td>\n",
       "    </tr>\n",
       "    <tr>\n",
       "      <th>4</th>\n",
       "      <td>Support Vector Regression</td>\n",
       "      <td>39.213283</td>\n",
       "      <td>39.200943</td>\n",
       "      <td>3.114148</td>\n",
       "      <td>3.059588</td>\n",
       "      <td>0.700677</td>\n",
       "      <td>0.693383</td>\n",
       "      <td>0.700646</td>\n",
       "      <td>0.693320</td>\n",
       "    </tr>\n",
       "    <tr>\n",
       "      <th>5</th>\n",
       "      <td>Decision Tree Regressor</td>\n",
       "      <td>0.583525</td>\n",
       "      <td>61.139598</td>\n",
       "      <td>0.045608</td>\n",
       "      <td>3.666033</td>\n",
       "      <td>0.995546</td>\n",
       "      <td>0.521786</td>\n",
       "      <td>0.995545</td>\n",
       "      <td>0.521687</td>\n",
       "    </tr>\n",
       "    <tr>\n",
       "      <th>6</th>\n",
       "      <td>Random Forest Regressor</td>\n",
       "      <td>5.270498</td>\n",
       "      <td>34.186604</td>\n",
       "      <td>1.164584</td>\n",
       "      <td>3.039165</td>\n",
       "      <td>0.959769</td>\n",
       "      <td>0.732603</td>\n",
       "      <td>0.959765</td>\n",
       "      <td>0.732548</td>\n",
       "    </tr>\n",
       "  </tbody>\n",
       "</table>\n",
       "</div>"
      ],
      "text/plain": [
       "                       model  Train Mean Squared Error   \\\n",
       "0          Linear Regression                  40.317066   \n",
       "1           Ridge Regression                  40.317870   \n",
       "2           Lasso Regression                  42.259282   \n",
       "3      ElasticNet Regression                  46.791558   \n",
       "4  Support Vector Regression                  39.213283   \n",
       "5    Decision Tree Regressor                   0.583525   \n",
       "6    Random Forest Regressor                   5.270498   \n",
       "\n",
       "   Test Mean Squared Error  Train Mean Absolute Error  \\\n",
       "0                38.626226                   4.227816   \n",
       "1                38.619047                   4.226963   \n",
       "2                40.205873                   4.489305   \n",
       "3                44.627403                   5.048629   \n",
       "4                39.200943                   3.114148   \n",
       "5                61.139598                   0.045608   \n",
       "6                34.186604                   1.164584   \n",
       "\n",
       "   Test Mean Absolute Error  Train R Sqaure  Test R Sqaure  \\\n",
       "0                  4.118774        0.692251       0.697878   \n",
       "1                  4.117645        0.692245       0.697934   \n",
       "2                  4.388920        0.677426       0.685522   \n",
       "3                  4.955296        0.642830       0.650939   \n",
       "4                  3.059588        0.700677       0.693383   \n",
       "5                  3.666033        0.995546       0.521786   \n",
       "6                  3.039165        0.959769       0.732603   \n",
       "\n",
       "   Train Adj R Sqaure  Test Adj R Sqaure  \n",
       "0            0.692220           0.697816  \n",
       "1            0.692214           0.697872  \n",
       "2            0.677393           0.685458  \n",
       "3            0.642794           0.650867  \n",
       "4            0.700646           0.693320  \n",
       "5            0.995545           0.521687  \n",
       "6            0.959765           0.732548  "
      ]
     },
     "execution_count": 49,
     "metadata": {},
     "output_type": "execute_result"
    }
   ],
   "source": [
    "models = {\n",
    "    \"Linear Regression\" : LinearRegression(),\n",
    "    \"Ridge Regression\" : Ridge(),\n",
    "    \"Lasso Regression\" : Lasso(),\n",
    "    \"ElasticNet Regression\" : ElasticNet(),\n",
    "    \"Support Vector Regression\" : SVR(),\n",
    "    \"Decision Tree Regressor\" : DecisionTreeRegressor(),\n",
    "    \"Random Forest Regressor\" : RandomForestRegressor()\n",
    "}\n",
    "\n",
    "for i in range(len(list(models))):\n",
    "    model = list(models.values())[i]\n",
    "    model.fit(x_train,y_train)   # Training Model\n",
    "\n",
    "    # Prediction\n",
    "    y_train_pred = model.predict(x_train)\n",
    "    y_test_pred = model.predict(x_test)\n",
    "\n",
    "    # Training Data perfomance Matrix\n",
    "    model_train_mse = mean_squared_error(y_train,y_train_pred)   # Calculate MSE\n",
    "    model_train_mae = mean_absolute_error(y_train,y_train_pred)  # Calculate MAE\n",
    "    model_train_r2 = r2_score(y_train,y_train_pred)              # Calculate 2 sqaure\n",
    "    model_train_ad_r2 = 1 - (1-model_train_r2)*(len(y_train)-1) / (len(y_train)- x_train.shape[1] - 1)\n",
    "\n",
    "    \n",
    "    # Test Data perfomance Matrix\n",
    "    model_test_mse = mean_squared_error(y_test,y_test_pred)   # Calculate MSE\n",
    "    model_test_mae = mean_absolute_error(y_test,y_test_pred)  # Calculate MAE\n",
    "    model_test_r2 = r2_score(y_test,y_test_pred)              # Calculate 2 sqaure\n",
    "    model_test_ad_r2 = 1 - (1-model_test_r2)*(len(y_test)-1) / (len(y_test)- x_test.shape[1] - 1)\n",
    "\n",
    "\n",
    "    report.append({\n",
    "                    \"model\" : (list(models.keys()))[i],\n",
    "                    'Train Mean Squared Error ' : model_train_mse,\n",
    "                    'Test Mean Squared Error' : model_test_mse,\n",
    "                    'Train Mean Absolute Error' : model_train_mae,\n",
    "                    'Test Mean Absolute Error' : model_test_mae,\n",
    "                    'Train R Sqaure' : model_train_r2,\n",
    "                    'Test R Sqaure' : model_test_r2,\n",
    "                    'Train Adj R Sqaure' : model_train_ad_r2,\n",
    "                    'Test Adj R Sqaure' : model_test_ad_r2\n",
    "    })\n",
    "\n",
    "all_model = pd.DataFrame(report)\n",
    "all_model"
   ]
  },
  {
   "cell_type": "markdown",
   "id": "d559bbc9",
   "metadata": {},
   "source": [
    "## <span style='color:Green'> Hyper-Parameter Tunning on RandomSearchCV </span>\n"
   ]
  },
  {
   "cell_type": "code",
   "execution_count": 50,
   "id": "4d6c585b",
   "metadata": {},
   "outputs": [],
   "source": [
    "Ran_param = {\n",
    "    \"max_depth\" : [5,8,15,None,10],\n",
    "    'max_features' : [3,'auto'],\n",
    "    'min_samples_split' : [2,8,15,20],\n",
    "    'n_estimators' : [50,100,200,500]\n",
    "}"
   ]
  },
  {
   "cell_type": "code",
   "execution_count": 51,
   "id": "fff20c42",
   "metadata": {},
   "outputs": [],
   "source": [
    "random = RandomizedSearchCV(estimator = RandomForestRegressor(),\n",
    "                   param_distributions = Ran_param,\n",
    "                   n_iter= 100,\n",
    "                   cv = 3,\n",
    "                   verbose = 2,\n",
    "                   n_jobs=-1)"
   ]
  },
  {
   "cell_type": "code",
   "execution_count": 52,
   "id": "f5f323f4",
   "metadata": {},
   "outputs": [
    {
     "name": "stdout",
     "output_type": "stream",
     "text": [
      "Fitting 3 folds for each of 100 candidates, totalling 300 fits\n"
     ]
    },
    {
     "data": {
      "text/html": [
       "<style>#sk-container-id-1 {color: black;background-color: white;}#sk-container-id-1 pre{padding: 0;}#sk-container-id-1 div.sk-toggleable {background-color: white;}#sk-container-id-1 label.sk-toggleable__label {cursor: pointer;display: block;width: 100%;margin-bottom: 0;padding: 0.3em;box-sizing: border-box;text-align: center;}#sk-container-id-1 label.sk-toggleable__label-arrow:before {content: \"▸\";float: left;margin-right: 0.25em;color: #696969;}#sk-container-id-1 label.sk-toggleable__label-arrow:hover:before {color: black;}#sk-container-id-1 div.sk-estimator:hover label.sk-toggleable__label-arrow:before {color: black;}#sk-container-id-1 div.sk-toggleable__content {max-height: 0;max-width: 0;overflow: hidden;text-align: left;background-color: #f0f8ff;}#sk-container-id-1 div.sk-toggleable__content pre {margin: 0.2em;color: black;border-radius: 0.25em;background-color: #f0f8ff;}#sk-container-id-1 input.sk-toggleable__control:checked~div.sk-toggleable__content {max-height: 200px;max-width: 100%;overflow: auto;}#sk-container-id-1 input.sk-toggleable__control:checked~label.sk-toggleable__label-arrow:before {content: \"▾\";}#sk-container-id-1 div.sk-estimator input.sk-toggleable__control:checked~label.sk-toggleable__label {background-color: #d4ebff;}#sk-container-id-1 div.sk-label input.sk-toggleable__control:checked~label.sk-toggleable__label {background-color: #d4ebff;}#sk-container-id-1 input.sk-hidden--visually {border: 0;clip: rect(1px 1px 1px 1px);clip: rect(1px, 1px, 1px, 1px);height: 1px;margin: -1px;overflow: hidden;padding: 0;position: absolute;width: 1px;}#sk-container-id-1 div.sk-estimator {font-family: monospace;background-color: #f0f8ff;border: 1px dotted black;border-radius: 0.25em;box-sizing: border-box;margin-bottom: 0.5em;}#sk-container-id-1 div.sk-estimator:hover {background-color: #d4ebff;}#sk-container-id-1 div.sk-parallel-item::after {content: \"\";width: 100%;border-bottom: 1px solid gray;flex-grow: 1;}#sk-container-id-1 div.sk-label:hover label.sk-toggleable__label {background-color: #d4ebff;}#sk-container-id-1 div.sk-serial::before {content: \"\";position: absolute;border-left: 1px solid gray;box-sizing: border-box;top: 0;bottom: 0;left: 50%;z-index: 0;}#sk-container-id-1 div.sk-serial {display: flex;flex-direction: column;align-items: center;background-color: white;padding-right: 0.2em;padding-left: 0.2em;position: relative;}#sk-container-id-1 div.sk-item {position: relative;z-index: 1;}#sk-container-id-1 div.sk-parallel {display: flex;align-items: stretch;justify-content: center;background-color: white;position: relative;}#sk-container-id-1 div.sk-item::before, #sk-container-id-1 div.sk-parallel-item::before {content: \"\";position: absolute;border-left: 1px solid gray;box-sizing: border-box;top: 0;bottom: 0;left: 50%;z-index: -1;}#sk-container-id-1 div.sk-parallel-item {display: flex;flex-direction: column;z-index: 1;position: relative;background-color: white;}#sk-container-id-1 div.sk-parallel-item:first-child::after {align-self: flex-end;width: 50%;}#sk-container-id-1 div.sk-parallel-item:last-child::after {align-self: flex-start;width: 50%;}#sk-container-id-1 div.sk-parallel-item:only-child::after {width: 0;}#sk-container-id-1 div.sk-dashed-wrapped {border: 1px dashed gray;margin: 0 0.4em 0.5em 0.4em;box-sizing: border-box;padding-bottom: 0.4em;background-color: white;}#sk-container-id-1 div.sk-label label {font-family: monospace;font-weight: bold;display: inline-block;line-height: 1.2em;}#sk-container-id-1 div.sk-label-container {text-align: center;}#sk-container-id-1 div.sk-container {/* jupyter's `normalize.less` sets `[hidden] { display: none; }` but bootstrap.min.css set `[hidden] { display: none !important; }` so we also need the `!important` here to be able to override the default hidden behavior on the sphinx rendered scikit-learn.org. See: https://github.com/scikit-learn/scikit-learn/issues/21755 */display: inline-block !important;position: relative;}#sk-container-id-1 div.sk-text-repr-fallback {display: none;}</style><div id=\"sk-container-id-1\" class=\"sk-top-container\"><div class=\"sk-text-repr-fallback\"><pre>RandomizedSearchCV(cv=3, estimator=RandomForestRegressor(), n_iter=100,\n",
       "                   n_jobs=-1,\n",
       "                   param_distributions={&#x27;max_depth&#x27;: [5, 8, 15, None, 10],\n",
       "                                        &#x27;max_features&#x27;: [3, &#x27;auto&#x27;],\n",
       "                                        &#x27;min_samples_split&#x27;: [2, 8, 15, 20],\n",
       "                                        &#x27;n_estimators&#x27;: [50, 100, 200, 500]},\n",
       "                   verbose=2)</pre><b>In a Jupyter environment, please rerun this cell to show the HTML representation or trust the notebook. <br />On GitHub, the HTML representation is unable to render, please try loading this page with nbviewer.org.</b></div><div class=\"sk-container\" hidden><div class=\"sk-item sk-dashed-wrapped\"><div class=\"sk-label-container\"><div class=\"sk-label sk-toggleable\"><input class=\"sk-toggleable__control sk-hidden--visually\" id=\"sk-estimator-id-1\" type=\"checkbox\" ><label for=\"sk-estimator-id-1\" class=\"sk-toggleable__label sk-toggleable__label-arrow\">RandomizedSearchCV</label><div class=\"sk-toggleable__content\"><pre>RandomizedSearchCV(cv=3, estimator=RandomForestRegressor(), n_iter=100,\n",
       "                   n_jobs=-1,\n",
       "                   param_distributions={&#x27;max_depth&#x27;: [5, 8, 15, None, 10],\n",
       "                                        &#x27;max_features&#x27;: [3, &#x27;auto&#x27;],\n",
       "                                        &#x27;min_samples_split&#x27;: [2, 8, 15, 20],\n",
       "                                        &#x27;n_estimators&#x27;: [50, 100, 200, 500]},\n",
       "                   verbose=2)</pre></div></div></div><div class=\"sk-parallel\"><div class=\"sk-parallel-item\"><div class=\"sk-item\"><div class=\"sk-label-container\"><div class=\"sk-label sk-toggleable\"><input class=\"sk-toggleable__control sk-hidden--visually\" id=\"sk-estimator-id-2\" type=\"checkbox\" ><label for=\"sk-estimator-id-2\" class=\"sk-toggleable__label sk-toggleable__label-arrow\">estimator: RandomForestRegressor</label><div class=\"sk-toggleable__content\"><pre>RandomForestRegressor()</pre></div></div></div><div class=\"sk-serial\"><div class=\"sk-item\"><div class=\"sk-estimator sk-toggleable\"><input class=\"sk-toggleable__control sk-hidden--visually\" id=\"sk-estimator-id-3\" type=\"checkbox\" ><label for=\"sk-estimator-id-3\" class=\"sk-toggleable__label sk-toggleable__label-arrow\">RandomForestRegressor</label><div class=\"sk-toggleable__content\"><pre>RandomForestRegressor()</pre></div></div></div></div></div></div></div></div></div></div>"
      ],
      "text/plain": [
       "RandomizedSearchCV(cv=3, estimator=RandomForestRegressor(), n_iter=100,\n",
       "                   n_jobs=-1,\n",
       "                   param_distributions={'max_depth': [5, 8, 15, None, 10],\n",
       "                                        'max_features': [3, 'auto'],\n",
       "                                        'min_samples_split': [2, 8, 15, 20],\n",
       "                                        'n_estimators': [50, 100, 200, 500]},\n",
       "                   verbose=2)"
      ]
     },
     "execution_count": 52,
     "metadata": {},
     "output_type": "execute_result"
    }
   ],
   "source": [
    "random.fit(x_train,y_train)"
   ]
  },
  {
   "cell_type": "code",
   "execution_count": 53,
   "id": "dff7752f",
   "metadata": {},
   "outputs": [
    {
     "data": {
      "text/plain": [
       "({'n_estimators': 500,\n",
       "  'min_samples_split': 20,\n",
       "  'max_features': 3,\n",
       "  'max_depth': 10},\n",
       " RandomForestRegressor(max_depth=10, max_features=3, min_samples_split=20,\n",
       "                       n_estimators=500))"
      ]
     },
     "execution_count": 53,
     "metadata": {},
     "output_type": "execute_result"
    }
   ],
   "source": [
    "random.best_params_,random.best_estimator_"
   ]
  },
  {
   "cell_type": "code",
   "execution_count": 54,
   "id": "869352a6",
   "metadata": {},
   "outputs": [
    {
     "name": "stdout",
     "output_type": "stream",
     "text": [
      "\n",
      "\n",
      "Hyperparameter tuning on random forest\n",
      "Model Performance For Training Data\n",
      "-Mean Squared Error : 27.816961\n",
      "-Mean Absolute Error : 2.8878\n",
      "-R Sqaure : 0.7877\n",
      "-Adj R Sqaure : 0.7876\n",
      "-----------------------------------------------------------------------\n",
      "Model Performance For Test Data\n",
      "-Mean Squared Error : 31.002924\n",
      "-Mean Absolute Error : 2.9927\n",
      "-R Sqaure : 0.7575\n",
      "-Adj R Sqaure : 0.7575\n"
     ]
    }
   ],
   "source": [
    "rf_best_para = RandomForestRegressor(max_depth=10, max_features=3, min_samples_split=20,\n",
    "                                    n_estimators=500)\n",
    "\n",
    "rf_best_para.fit(x_train,y_train)\n",
    "\n",
    "# make predictions\n",
    "rf_pred_train = rf_best_para.predict(x_train)\n",
    "rf_pred_test = rf_best_para.predict(x_test)\n",
    "\n",
    "# Training dataset performance matrix\n",
    "rf_train_mse = mean_squared_error(y_train,rf_pred_train)   # Calculate MSE\n",
    "rf_train_mae = mean_absolute_error(y_train,rf_pred_train)  # Calculate MAE\n",
    "rf_train_r2 = r2_score(y_train,rf_pred_train)              # Calculate 2 sqaure\n",
    "rf_train_ad_r2 = 1 - (1-rf_train_r2)*(len(y_train)-1) / (len(y_train)- x_train.shape[1] - 1)\n",
    "\n",
    "\n",
    "# Test Data perfomance Matrix\n",
    "rf_test_mse = mean_squared_error(y_test,rf_pred_test)   # Calculate MSE\n",
    "rf_test_mae = mean_absolute_error(y_test,rf_pred_test)  # Calculate MAE\n",
    "rf_test_r2 = r2_score(y_test,rf_pred_test)              # Calculate 2 sqaure\n",
    "rf_test_ad_r2 = 1 - (1-rf_test_r2)*(len(y_test)-1) / (len(y_test)- x_test.shape[1] - 1)\n",
    "\n",
    "print(\"\\n\")\n",
    "print(\"Hyperparameter tuning on random forest\")\n",
    "\n",
    "print(\"Model Performance For Training Data\")\n",
    "print(\"-Mean Squared Error : {:4f}\".format(rf_train_mse))\n",
    "print(\"-Mean Absolute Error : {:.4f}\".format(rf_train_mae))\n",
    "print(\"-R Sqaure : {:.4f}\".format(rf_train_r2))\n",
    "print(\"-Adj R Sqaure : {:.4f}\".format(rf_train_ad_r2))\n",
    "\n",
    "print(\"-----------------------------------------------------------------------\")\n",
    "\n",
    "print(\"Model Performance For Test Data\")\n",
    "print(\"-Mean Squared Error : {:4f}\".format(rf_test_mse))\n",
    "print(\"-Mean Absolute Error : {:.4f}\".format(rf_test_mae))\n",
    "print(\"-R Sqaure : {:.4f}\".format(rf_test_r2))\n",
    "print(\"-Adj R Sqaure : {:.4f}\".format(rf_test_ad_r2))"
   ]
  },
  {
   "cell_type": "code",
   "execution_count": 55,
   "id": "e85df1ea",
   "metadata": {},
   "outputs": [
    {
     "data": {
      "text/html": [
       "<div>\n",
       "<style scoped>\n",
       "    .dataframe tbody tr th:only-of-type {\n",
       "        vertical-align: middle;\n",
       "    }\n",
       "\n",
       "    .dataframe tbody tr th {\n",
       "        vertical-align: top;\n",
       "    }\n",
       "\n",
       "    .dataframe thead th {\n",
       "        text-align: right;\n",
       "    }\n",
       "</style>\n",
       "<table border=\"1\" class=\"dataframe\">\n",
       "  <thead>\n",
       "    <tr style=\"text-align: right;\">\n",
       "      <th></th>\n",
       "      <th>model</th>\n",
       "      <th>Train Mean Squared Error</th>\n",
       "      <th>Test Mean Squared Error</th>\n",
       "      <th>Train Mean Absolute Error</th>\n",
       "      <th>Test Mean Absolute Error</th>\n",
       "      <th>Train R Sqaure</th>\n",
       "      <th>Test R Sqaure</th>\n",
       "      <th>Train Adj R Sqaure</th>\n",
       "      <th>Test Adj R Sqaure</th>\n",
       "    </tr>\n",
       "  </thead>\n",
       "  <tbody>\n",
       "    <tr>\n",
       "      <th>0</th>\n",
       "      <td>Hyper-Parameter Tunning on random forest</td>\n",
       "      <td>27.816961</td>\n",
       "      <td>31.002924</td>\n",
       "      <td>2.887815</td>\n",
       "      <td>2.992724</td>\n",
       "      <td>0.787667</td>\n",
       "      <td>0.757505</td>\n",
       "      <td>0.787646</td>\n",
       "      <td>0.757455</td>\n",
       "    </tr>\n",
       "  </tbody>\n",
       "</table>\n",
       "</div>"
      ],
      "text/plain": [
       "                                      model  Train Mean Squared Error   \\\n",
       "0  Hyper-Parameter Tunning on random forest                  27.816961   \n",
       "\n",
       "   Test Mean Squared Error  Train Mean Absolute Error  \\\n",
       "0                31.002924                   2.887815   \n",
       "\n",
       "   Test Mean Absolute Error  Train R Sqaure  Test R Sqaure  \\\n",
       "0                  2.992724        0.787667       0.757505   \n",
       "\n",
       "   Train Adj R Sqaure  Test Adj R Sqaure  \n",
       "0            0.787646           0.757455  "
      ]
     },
     "execution_count": 55,
     "metadata": {},
     "output_type": "execute_result"
    }
   ],
   "source": [
    "rf_record = []\n",
    "rf_record.append({\n",
    "                    \"model\" : \"Hyper-Parameter Tunning on random forest\",\n",
    "                    \"Train Mean Squared Error \" : rf_train_mse,\n",
    "                    \"Test Mean Squared Error\" : rf_test_mse,\n",
    "                    \"Train Mean Absolute Error\" : rf_train_mae,\n",
    "                    \"Test Mean Absolute Error\" : rf_test_mae,\n",
    "                    \"Train R Sqaure\" : rf_train_r2,\n",
    "                    \"Test R Sqaure\" : rf_test_r2,\n",
    "                    \"Train Adj R Sqaure\" : rf_train_ad_r2,\n",
    "                    \"Test Adj R Sqaure\" : rf_test_ad_r2\n",
    "                    })\n",
    "\n",
    "Hypertuned_rf = pd.DataFrame(rf_record)\n",
    "Hypertuned_rf"
   ]
  },
  {
   "cell_type": "markdown",
   "id": "b2a54192",
   "metadata": {},
   "source": [
    "## <span style='color:Green'> Bagging Regressor </span>\n"
   ]
  },
  {
   "cell_type": "code",
   "execution_count": 70,
   "id": "4b87a666",
   "metadata": {},
   "outputs": [
    {
     "data": {
      "text/html": [
       "<div>\n",
       "<style scoped>\n",
       "    .dataframe tbody tr th:only-of-type {\n",
       "        vertical-align: middle;\n",
       "    }\n",
       "\n",
       "    .dataframe tbody tr th {\n",
       "        vertical-align: top;\n",
       "    }\n",
       "\n",
       "    .dataframe thead th {\n",
       "        text-align: right;\n",
       "    }\n",
       "</style>\n",
       "<table border=\"1\" class=\"dataframe\">\n",
       "  <thead>\n",
       "    <tr style=\"text-align: right;\">\n",
       "      <th></th>\n",
       "      <th>model</th>\n",
       "      <th>Train Mean Squared Error</th>\n",
       "      <th>Test Mean Squared Error</th>\n",
       "      <th>Train Mean Absolute Error</th>\n",
       "      <th>Test Mean Absolute Error</th>\n",
       "      <th>Train R Sqaure</th>\n",
       "      <th>Test R Sqaure</th>\n",
       "      <th>Train Adj R Sqaure</th>\n",
       "      <th>Test Adj R Sqaure</th>\n",
       "    </tr>\n",
       "  </thead>\n",
       "  <tbody>\n",
       "    <tr>\n",
       "      <th>0</th>\n",
       "      <td>Bagging Regressor</td>\n",
       "      <td>5.268974</td>\n",
       "      <td>34.155725</td>\n",
       "      <td>1.160452</td>\n",
       "      <td>3.03411</td>\n",
       "      <td>0.959781</td>\n",
       "      <td>0.732845</td>\n",
       "      <td>0.959777</td>\n",
       "      <td>0.73279</td>\n",
       "    </tr>\n",
       "  </tbody>\n",
       "</table>\n",
       "</div>"
      ],
      "text/plain": [
       "               model  Train Mean Squared Error   Test Mean Squared Error  \\\n",
       "0  Bagging Regressor                   5.268974                34.155725   \n",
       "\n",
       "   Train Mean Absolute Error  Test Mean Absolute Error  Train R Sqaure  \\\n",
       "0                   1.160452                   3.03411        0.959781   \n",
       "\n",
       "   Test R Sqaure  Train Adj R Sqaure  Test Adj R Sqaure  \n",
       "0       0.732845            0.959777            0.73279  "
      ]
     },
     "execution_count": 70,
     "metadata": {},
     "output_type": "execute_result"
    }
   ],
   "source": [
    "report2 = []\n",
    "# Bagging using DecisionTreeRegressor\n",
    "dt_bag = BaggingRegressor(n_estimators=100)\n",
    "#If None, then the base estimator is a DecisionTreeRegressor.\n",
    "dt_bag.fit(x_train,y_train)\n",
    "\n",
    "# Make predictions\n",
    "train_pred_bag =dt_bag.predict(x_train)\n",
    "test_pred_bag = dt_bag.predict(x_test)\n",
    "\n",
    "# Training dataset performance matrix\n",
    "bag_train_mse = mean_squared_error(y_train,train_pred_bag)   # Calculate MSE\n",
    "bag_train_mae = mean_absolute_error(y_train,train_pred_bag)  # Calculate MAE\n",
    "bag_train_r2 = r2_score(y_train,train_pred_bag)              # Calculate 2 sqaure\n",
    "bag_train_ad_r2 = 1 - (1-bag_train_r2)*(len(y_train)-1) / (len(y_train)- x_train.shape[1] - 1)\n",
    "\n",
    "\n",
    "# Test Data perfomance Matrix\n",
    "bag_test_mse = mean_squared_error(y_test,test_pred_bag)   # Calculate MSE\n",
    "bag_test_mae = mean_absolute_error(y_test,test_pred_bag)  # Calculate MAE\n",
    "bag_test_r2 = r2_score(y_test,test_pred_bag)              # Calculate 2 sqaure\n",
    "bag_test_ad_r2 = 1 - (1-bag_test_r2)*(len(y_test)-1) / (len(y_test)- x_test.shape[1] - 1)\n",
    "\n",
    "\n",
    "\n",
    "report2.append({\n",
    "                \"model\" : 'Bagging Regressor',\n",
    "                'Train Mean Squared Error ' : bag_train_mse,\n",
    "                'Test Mean Squared Error' : bag_test_mse,\n",
    "                'Train Mean Absolute Error' : bag_train_mae,\n",
    "                'Test Mean Absolute Error' : bag_test_mae,\n",
    "                'Train R Sqaure' : bag_train_r2,\n",
    "                'Test R Sqaure' : bag_test_r2,\n",
    "                'Train Adj R Sqaure' : bag_train_ad_r2,\n",
    "                'Test Adj R Sqaure' : bag_test_ad_r2\n",
    "})\n",
    "\n",
    "Bagging_report = pd.DataFrame(report2)\n",
    "Bagging_report"
   ]
  },
  {
   "cell_type": "markdown",
   "id": "0f60b583",
   "metadata": {},
   "source": [
    "## <span style='color:Green'> Hyper-parameter tunning of bagging regressor </span>\n"
   ]
  },
  {
   "cell_type": "code",
   "execution_count": 58,
   "id": "df824e82",
   "metadata": {},
   "outputs": [],
   "source": [
    "bag_param = {\n",
    "            'n_estimators' : [50,100,200,500],\n",
    "            'max_samples' : range(2,5,1),\n",
    "            'max_features' : [2,3]\n",
    "}"
   ]
  },
  {
   "cell_type": "code",
   "execution_count": 59,
   "id": "14e816ea",
   "metadata": {},
   "outputs": [],
   "source": [
    "bag_ran_search = RandomizedSearchCV(estimator=dt_bag, \n",
    "                    param_distributions= bag_param, \n",
    "                    n_iter=100,\n",
    "                    n_jobs=-1,\n",
    "                    cv = 3,\n",
    "                    verbose= 2\n",
    "                    )"
   ]
  },
  {
   "cell_type": "code",
   "execution_count": 60,
   "id": "34bad5c3",
   "metadata": {},
   "outputs": [
    {
     "name": "stdout",
     "output_type": "stream",
     "text": [
      "Fitting 3 folds for each of 24 candidates, totalling 72 fits\n"
     ]
    },
    {
     "data": {
      "text/html": [
       "<style>#sk-container-id-2 {color: black;background-color: white;}#sk-container-id-2 pre{padding: 0;}#sk-container-id-2 div.sk-toggleable {background-color: white;}#sk-container-id-2 label.sk-toggleable__label {cursor: pointer;display: block;width: 100%;margin-bottom: 0;padding: 0.3em;box-sizing: border-box;text-align: center;}#sk-container-id-2 label.sk-toggleable__label-arrow:before {content: \"▸\";float: left;margin-right: 0.25em;color: #696969;}#sk-container-id-2 label.sk-toggleable__label-arrow:hover:before {color: black;}#sk-container-id-2 div.sk-estimator:hover label.sk-toggleable__label-arrow:before {color: black;}#sk-container-id-2 div.sk-toggleable__content {max-height: 0;max-width: 0;overflow: hidden;text-align: left;background-color: #f0f8ff;}#sk-container-id-2 div.sk-toggleable__content pre {margin: 0.2em;color: black;border-radius: 0.25em;background-color: #f0f8ff;}#sk-container-id-2 input.sk-toggleable__control:checked~div.sk-toggleable__content {max-height: 200px;max-width: 100%;overflow: auto;}#sk-container-id-2 input.sk-toggleable__control:checked~label.sk-toggleable__label-arrow:before {content: \"▾\";}#sk-container-id-2 div.sk-estimator input.sk-toggleable__control:checked~label.sk-toggleable__label {background-color: #d4ebff;}#sk-container-id-2 div.sk-label input.sk-toggleable__control:checked~label.sk-toggleable__label {background-color: #d4ebff;}#sk-container-id-2 input.sk-hidden--visually {border: 0;clip: rect(1px 1px 1px 1px);clip: rect(1px, 1px, 1px, 1px);height: 1px;margin: -1px;overflow: hidden;padding: 0;position: absolute;width: 1px;}#sk-container-id-2 div.sk-estimator {font-family: monospace;background-color: #f0f8ff;border: 1px dotted black;border-radius: 0.25em;box-sizing: border-box;margin-bottom: 0.5em;}#sk-container-id-2 div.sk-estimator:hover {background-color: #d4ebff;}#sk-container-id-2 div.sk-parallel-item::after {content: \"\";width: 100%;border-bottom: 1px solid gray;flex-grow: 1;}#sk-container-id-2 div.sk-label:hover label.sk-toggleable__label {background-color: #d4ebff;}#sk-container-id-2 div.sk-serial::before {content: \"\";position: absolute;border-left: 1px solid gray;box-sizing: border-box;top: 0;bottom: 0;left: 50%;z-index: 0;}#sk-container-id-2 div.sk-serial {display: flex;flex-direction: column;align-items: center;background-color: white;padding-right: 0.2em;padding-left: 0.2em;position: relative;}#sk-container-id-2 div.sk-item {position: relative;z-index: 1;}#sk-container-id-2 div.sk-parallel {display: flex;align-items: stretch;justify-content: center;background-color: white;position: relative;}#sk-container-id-2 div.sk-item::before, #sk-container-id-2 div.sk-parallel-item::before {content: \"\";position: absolute;border-left: 1px solid gray;box-sizing: border-box;top: 0;bottom: 0;left: 50%;z-index: -1;}#sk-container-id-2 div.sk-parallel-item {display: flex;flex-direction: column;z-index: 1;position: relative;background-color: white;}#sk-container-id-2 div.sk-parallel-item:first-child::after {align-self: flex-end;width: 50%;}#sk-container-id-2 div.sk-parallel-item:last-child::after {align-self: flex-start;width: 50%;}#sk-container-id-2 div.sk-parallel-item:only-child::after {width: 0;}#sk-container-id-2 div.sk-dashed-wrapped {border: 1px dashed gray;margin: 0 0.4em 0.5em 0.4em;box-sizing: border-box;padding-bottom: 0.4em;background-color: white;}#sk-container-id-2 div.sk-label label {font-family: monospace;font-weight: bold;display: inline-block;line-height: 1.2em;}#sk-container-id-2 div.sk-label-container {text-align: center;}#sk-container-id-2 div.sk-container {/* jupyter's `normalize.less` sets `[hidden] { display: none; }` but bootstrap.min.css set `[hidden] { display: none !important; }` so we also need the `!important` here to be able to override the default hidden behavior on the sphinx rendered scikit-learn.org. See: https://github.com/scikit-learn/scikit-learn/issues/21755 */display: inline-block !important;position: relative;}#sk-container-id-2 div.sk-text-repr-fallback {display: none;}</style><div id=\"sk-container-id-2\" class=\"sk-top-container\"><div class=\"sk-text-repr-fallback\"><pre>RandomizedSearchCV(cv=3, estimator=BaggingRegressor(n_estimators=100),\n",
       "                   n_iter=100, n_jobs=-1,\n",
       "                   param_distributions={&#x27;max_features&#x27;: [2, 3],\n",
       "                                        &#x27;max_samples&#x27;: range(2, 5),\n",
       "                                        &#x27;n_estimators&#x27;: [50, 100, 200, 500]},\n",
       "                   verbose=2)</pre><b>In a Jupyter environment, please rerun this cell to show the HTML representation or trust the notebook. <br />On GitHub, the HTML representation is unable to render, please try loading this page with nbviewer.org.</b></div><div class=\"sk-container\" hidden><div class=\"sk-item sk-dashed-wrapped\"><div class=\"sk-label-container\"><div class=\"sk-label sk-toggleable\"><input class=\"sk-toggleable__control sk-hidden--visually\" id=\"sk-estimator-id-4\" type=\"checkbox\" ><label for=\"sk-estimator-id-4\" class=\"sk-toggleable__label sk-toggleable__label-arrow\">RandomizedSearchCV</label><div class=\"sk-toggleable__content\"><pre>RandomizedSearchCV(cv=3, estimator=BaggingRegressor(n_estimators=100),\n",
       "                   n_iter=100, n_jobs=-1,\n",
       "                   param_distributions={&#x27;max_features&#x27;: [2, 3],\n",
       "                                        &#x27;max_samples&#x27;: range(2, 5),\n",
       "                                        &#x27;n_estimators&#x27;: [50, 100, 200, 500]},\n",
       "                   verbose=2)</pre></div></div></div><div class=\"sk-parallel\"><div class=\"sk-parallel-item\"><div class=\"sk-item\"><div class=\"sk-label-container\"><div class=\"sk-label sk-toggleable\"><input class=\"sk-toggleable__control sk-hidden--visually\" id=\"sk-estimator-id-5\" type=\"checkbox\" ><label for=\"sk-estimator-id-5\" class=\"sk-toggleable__label sk-toggleable__label-arrow\">estimator: BaggingRegressor</label><div class=\"sk-toggleable__content\"><pre>BaggingRegressor(n_estimators=100)</pre></div></div></div><div class=\"sk-serial\"><div class=\"sk-item\"><div class=\"sk-estimator sk-toggleable\"><input class=\"sk-toggleable__control sk-hidden--visually\" id=\"sk-estimator-id-6\" type=\"checkbox\" ><label for=\"sk-estimator-id-6\" class=\"sk-toggleable__label sk-toggleable__label-arrow\">BaggingRegressor</label><div class=\"sk-toggleable__content\"><pre>BaggingRegressor(n_estimators=100)</pre></div></div></div></div></div></div></div></div></div></div>"
      ],
      "text/plain": [
       "RandomizedSearchCV(cv=3, estimator=BaggingRegressor(n_estimators=100),\n",
       "                   n_iter=100, n_jobs=-1,\n",
       "                   param_distributions={'max_features': [2, 3],\n",
       "                                        'max_samples': range(2, 5),\n",
       "                                        'n_estimators': [50, 100, 200, 500]},\n",
       "                   verbose=2)"
      ]
     },
     "execution_count": 60,
     "metadata": {},
     "output_type": "execute_result"
    }
   ],
   "source": [
    "bag_ran_search.fit(x_train,y_train)"
   ]
  },
  {
   "cell_type": "code",
   "execution_count": 61,
   "id": "48ea1348",
   "metadata": {},
   "outputs": [
    {
     "data": {
      "text/plain": [
       "({'n_estimators': 50, 'max_samples': 4, 'max_features': 3},\n",
       " BaggingRegressor(max_features=3, max_samples=4, n_estimators=50))"
      ]
     },
     "execution_count": 61,
     "metadata": {},
     "output_type": "execute_result"
    }
   ],
   "source": [
    "bag_ran_search.best_params_,bag_ran_search.best_estimator_"
   ]
  },
  {
   "cell_type": "code",
   "execution_count": 62,
   "id": "432fcf56",
   "metadata": {},
   "outputs": [
    {
     "name": "stdout",
     "output_type": "stream",
     "text": [
      "Hyperparameter tunning of Bagging Regressor\n",
      "Model Performance For Training Data\n",
      "-Mean Squared Error : 40.121305\n",
      "-Mean Absolute Error : 3.7882\n",
      "-R Sqaure : 0.6937\n",
      "-Adj R Sqaure : 0.6937\n",
      "-----------------------------------------------------------------------\n",
      "Model Performance For Test Data\n",
      "-Mean Squared Error : 38.382493\n",
      "-Mean Absolute Error : 3.6898\n",
      "-R Sqaure : 0.6998\n",
      "-Adj R Sqaure : 0.6997\n"
     ]
    }
   ],
   "source": [
    "bag_model_hyp =  BaggingRegressor(max_features=4, max_samples=10, n_estimators=50)\n",
    "bag_model_hyp.fit(x_train,y_train)\n",
    "\n",
    "# Make predictions\n",
    "train_pred_baghyp =bag_model_hyp.predict(x_train)\n",
    "test_pred_baghyp = bag_model_hyp.predict(x_test)\n",
    "\n",
    "# Training dataset performance matrix\n",
    "baghy_train_mse = mean_squared_error(y_train,train_pred_baghyp)   # Calculate MSE\n",
    "baghy_train_mae = mean_absolute_error(y_train,train_pred_baghyp)  # Calculate MAE\n",
    "baghy_train_r2 = r2_score(y_train,train_pred_baghyp)              # Calculate 2 sqaure\n",
    "baghy_train_ad_r2 = 1 - (1-baghy_train_r2)*(len(y_train)-1) / (len(y_train)- x_train.shape[1] - 1)\n",
    "\n",
    "# Test Data perfomance Matrix\n",
    "baghy_test_mse = mean_squared_error(y_test,test_pred_baghyp)   # Calculate MSE\n",
    "baghy_test_mae = mean_absolute_error(y_test,test_pred_baghyp)  # Calculate MAE\n",
    "baghy_test_r2 = r2_score(y_test,test_pred_baghyp)              # Calculate 2 sqaure\n",
    "baghy_test_ad_r2 = 1 - (1-baghy_test_r2)*(len(y_test)-1) / (len(y_test)- x_test.shape[1] - 1)\n",
    "\n",
    "print(\"Hyperparameter tunning of Bagging Regressor\")\n",
    "\n",
    "print(\"Model Performance For Training Data\")\n",
    "print(\"-Mean Squared Error : {:4f}\".format(baghy_train_mse))\n",
    "print(\"-Mean Absolute Error : {:.4f}\".format(baghy_train_mae))\n",
    "print(\"-R Sqaure : {:.4f}\".format(baghy_train_r2))\n",
    "print(\"-Adj R Sqaure : {:.4f}\".format(baghy_train_ad_r2))\n",
    "\n",
    "print(\"-----------------------------------------------------------------------\")\n",
    "\n",
    "print(\"Model Performance For Test Data\")\n",
    "print(\"-Mean Squared Error : {:4f}\".format(baghy_test_mse))\n",
    "print(\"-Mean Absolute Error : {:.4f}\".format(baghy_test_mae))\n",
    "print(\"-R Sqaure : {:.4f}\".format(baghy_test_r2))\n",
    "print(\"-Adj R Sqaure : {:.4f}\".format(baghy_test_ad_r2))\n"
   ]
  },
  {
   "cell_type": "code",
   "execution_count": 63,
   "id": "c7b8e84c",
   "metadata": {},
   "outputs": [
    {
     "data": {
      "text/html": [
       "<div>\n",
       "<style scoped>\n",
       "    .dataframe tbody tr th:only-of-type {\n",
       "        vertical-align: middle;\n",
       "    }\n",
       "\n",
       "    .dataframe tbody tr th {\n",
       "        vertical-align: top;\n",
       "    }\n",
       "\n",
       "    .dataframe thead th {\n",
       "        text-align: right;\n",
       "    }\n",
       "</style>\n",
       "<table border=\"1\" class=\"dataframe\">\n",
       "  <thead>\n",
       "    <tr style=\"text-align: right;\">\n",
       "      <th></th>\n",
       "      <th>model</th>\n",
       "      <th>Train Mean Squared Error</th>\n",
       "      <th>Test Mean Squared Error</th>\n",
       "      <th>Train Mean Absolute Error</th>\n",
       "      <th>Test Mean Absolute Error</th>\n",
       "      <th>Train R Sqaure</th>\n",
       "      <th>Test R Sqaure</th>\n",
       "      <th>Train Adj R Sqaure</th>\n",
       "      <th>Test Adj R Sqaure</th>\n",
       "    </tr>\n",
       "  </thead>\n",
       "  <tbody>\n",
       "    <tr>\n",
       "      <th>0</th>\n",
       "      <td>Hyper-Parameter Tunning on Bagging Regressor</td>\n",
       "      <td>40.121305</td>\n",
       "      <td>38.382493</td>\n",
       "      <td>3.788187</td>\n",
       "      <td>3.689813</td>\n",
       "      <td>0.693746</td>\n",
       "      <td>0.699784</td>\n",
       "      <td>0.693715</td>\n",
       "      <td>0.699723</td>\n",
       "    </tr>\n",
       "  </tbody>\n",
       "</table>\n",
       "</div>"
      ],
      "text/plain": [
       "                                          model  Train Mean Squared Error   \\\n",
       "0  Hyper-Parameter Tunning on Bagging Regressor                  40.121305   \n",
       "\n",
       "   Test Mean Squared Error  Train Mean Absolute Error  \\\n",
       "0                38.382493                   3.788187   \n",
       "\n",
       "   Test Mean Absolute Error  Train R Sqaure  Test R Sqaure  \\\n",
       "0                  3.689813        0.693746       0.699784   \n",
       "\n",
       "   Train Adj R Sqaure  Test Adj R Sqaure  \n",
       "0            0.693715           0.699723  "
      ]
     },
     "execution_count": 63,
     "metadata": {},
     "output_type": "execute_result"
    }
   ],
   "source": [
    "bag_record = []\n",
    "bag_record.append({\n",
    "                    \"model\" : \"Hyper-Parameter Tunning on Bagging Regressor\",\n",
    "                    \"Train Mean Squared Error \" : baghy_train_mse,\n",
    "                    \"Test Mean Squared Error\" : baghy_test_mse,\n",
    "                    \"Train Mean Absolute Error\" : baghy_train_mae,\n",
    "                    \"Test Mean Absolute Error\" : baghy_test_mae,\n",
    "                    \"Train R Sqaure\" : baghy_train_r2,\n",
    "                    \"Test R Sqaure\" : baghy_test_r2,\n",
    "                    \"Train Adj R Sqaure\" : baghy_train_ad_r2,\n",
    "                    \"Test Adj R Sqaure\" : baghy_test_ad_r2\n",
    "                    })\n",
    "\n",
    "Hypertuned_bag = pd.DataFrame(bag_record)\n",
    "Hypertuned_bag"
   ]
  },
  {
   "cell_type": "markdown",
   "id": "c949c160",
   "metadata": {},
   "source": [
    "### <span style='color:red'> Summary </span>\n",
    "\n",
    "- Accuracy report of all columns"
   ]
  },
  {
   "cell_type": "code",
   "execution_count": 65,
   "id": "adf31ac6",
   "metadata": {},
   "outputs": [
    {
     "data": {
      "text/html": [
       "<div>\n",
       "<style scoped>\n",
       "    .dataframe tbody tr th:only-of-type {\n",
       "        vertical-align: middle;\n",
       "    }\n",
       "\n",
       "    .dataframe tbody tr th {\n",
       "        vertical-align: top;\n",
       "    }\n",
       "\n",
       "    .dataframe thead th {\n",
       "        text-align: right;\n",
       "    }\n",
       "</style>\n",
       "<table border=\"1\" class=\"dataframe\">\n",
       "  <thead>\n",
       "    <tr style=\"text-align: right;\">\n",
       "      <th></th>\n",
       "      <th>model</th>\n",
       "      <th>Train Mean Squared Error</th>\n",
       "      <th>Test Mean Squared Error</th>\n",
       "      <th>Train Mean Absolute Error</th>\n",
       "      <th>Test Mean Absolute Error</th>\n",
       "      <th>Train R Sqaure</th>\n",
       "      <th>Test R Sqaure</th>\n",
       "      <th>Train Adj R Sqaure</th>\n",
       "      <th>Test Adj R Sqaure</th>\n",
       "    </tr>\n",
       "  </thead>\n",
       "  <tbody>\n",
       "    <tr>\n",
       "      <th>8</th>\n",
       "      <td>Hyper-Parameter Tunning on random forest</td>\n",
       "      <td>27.816961</td>\n",
       "      <td>31.002924</td>\n",
       "      <td>2.887815</td>\n",
       "      <td>2.992724</td>\n",
       "      <td>0.787667</td>\n",
       "      <td>0.757505</td>\n",
       "      <td>0.787646</td>\n",
       "      <td>0.757455</td>\n",
       "    </tr>\n",
       "    <tr>\n",
       "      <th>7</th>\n",
       "      <td>Bagging Regressor</td>\n",
       "      <td>5.296305</td>\n",
       "      <td>34.156389</td>\n",
       "      <td>1.164451</td>\n",
       "      <td>3.039126</td>\n",
       "      <td>0.959572</td>\n",
       "      <td>0.732840</td>\n",
       "      <td>0.959568</td>\n",
       "      <td>0.732785</td>\n",
       "    </tr>\n",
       "    <tr>\n",
       "      <th>6</th>\n",
       "      <td>Random Forest Regressor</td>\n",
       "      <td>5.270498</td>\n",
       "      <td>34.186604</td>\n",
       "      <td>1.164584</td>\n",
       "      <td>3.039165</td>\n",
       "      <td>0.959769</td>\n",
       "      <td>0.732603</td>\n",
       "      <td>0.959765</td>\n",
       "      <td>0.732548</td>\n",
       "    </tr>\n",
       "    <tr>\n",
       "      <th>9</th>\n",
       "      <td>Hyper-Parameter Tunning on Bagging Regressor</td>\n",
       "      <td>40.121305</td>\n",
       "      <td>38.382493</td>\n",
       "      <td>3.788187</td>\n",
       "      <td>3.689813</td>\n",
       "      <td>0.693746</td>\n",
       "      <td>0.699784</td>\n",
       "      <td>0.693715</td>\n",
       "      <td>0.699723</td>\n",
       "    </tr>\n",
       "    <tr>\n",
       "      <th>1</th>\n",
       "      <td>Ridge Regression</td>\n",
       "      <td>40.317870</td>\n",
       "      <td>38.619047</td>\n",
       "      <td>4.226963</td>\n",
       "      <td>4.117645</td>\n",
       "      <td>0.692245</td>\n",
       "      <td>0.697934</td>\n",
       "      <td>0.692214</td>\n",
       "      <td>0.697872</td>\n",
       "    </tr>\n",
       "    <tr>\n",
       "      <th>0</th>\n",
       "      <td>Linear Regression</td>\n",
       "      <td>40.317066</td>\n",
       "      <td>38.626226</td>\n",
       "      <td>4.227816</td>\n",
       "      <td>4.118774</td>\n",
       "      <td>0.692251</td>\n",
       "      <td>0.697878</td>\n",
       "      <td>0.692220</td>\n",
       "      <td>0.697816</td>\n",
       "    </tr>\n",
       "    <tr>\n",
       "      <th>4</th>\n",
       "      <td>Support Vector Regression</td>\n",
       "      <td>39.213283</td>\n",
       "      <td>39.200943</td>\n",
       "      <td>3.114148</td>\n",
       "      <td>3.059588</td>\n",
       "      <td>0.700677</td>\n",
       "      <td>0.693383</td>\n",
       "      <td>0.700646</td>\n",
       "      <td>0.693320</td>\n",
       "    </tr>\n",
       "    <tr>\n",
       "      <th>2</th>\n",
       "      <td>Lasso Regression</td>\n",
       "      <td>42.259282</td>\n",
       "      <td>40.205873</td>\n",
       "      <td>4.489305</td>\n",
       "      <td>4.388920</td>\n",
       "      <td>0.677426</td>\n",
       "      <td>0.685522</td>\n",
       "      <td>0.677393</td>\n",
       "      <td>0.685458</td>\n",
       "    </tr>\n",
       "    <tr>\n",
       "      <th>3</th>\n",
       "      <td>ElasticNet Regression</td>\n",
       "      <td>46.791558</td>\n",
       "      <td>44.627403</td>\n",
       "      <td>5.048629</td>\n",
       "      <td>4.955296</td>\n",
       "      <td>0.642830</td>\n",
       "      <td>0.650939</td>\n",
       "      <td>0.642794</td>\n",
       "      <td>0.650867</td>\n",
       "    </tr>\n",
       "    <tr>\n",
       "      <th>5</th>\n",
       "      <td>Decision Tree Regressor</td>\n",
       "      <td>0.583525</td>\n",
       "      <td>61.139598</td>\n",
       "      <td>0.045608</td>\n",
       "      <td>3.666033</td>\n",
       "      <td>0.995546</td>\n",
       "      <td>0.521786</td>\n",
       "      <td>0.995545</td>\n",
       "      <td>0.521687</td>\n",
       "    </tr>\n",
       "  </tbody>\n",
       "</table>\n",
       "</div>"
      ],
      "text/plain": [
       "                                          model  Train Mean Squared Error   \\\n",
       "8      Hyper-Parameter Tunning on random forest                  27.816961   \n",
       "7                             Bagging Regressor                   5.296305   \n",
       "6                       Random Forest Regressor                   5.270498   \n",
       "9  Hyper-Parameter Tunning on Bagging Regressor                  40.121305   \n",
       "1                              Ridge Regression                  40.317870   \n",
       "0                             Linear Regression                  40.317066   \n",
       "4                     Support Vector Regression                  39.213283   \n",
       "2                              Lasso Regression                  42.259282   \n",
       "3                         ElasticNet Regression                  46.791558   \n",
       "5                       Decision Tree Regressor                   0.583525   \n",
       "\n",
       "   Test Mean Squared Error  Train Mean Absolute Error  \\\n",
       "8                31.002924                   2.887815   \n",
       "7                34.156389                   1.164451   \n",
       "6                34.186604                   1.164584   \n",
       "9                38.382493                   3.788187   \n",
       "1                38.619047                   4.226963   \n",
       "0                38.626226                   4.227816   \n",
       "4                39.200943                   3.114148   \n",
       "2                40.205873                   4.489305   \n",
       "3                44.627403                   5.048629   \n",
       "5                61.139598                   0.045608   \n",
       "\n",
       "   Test Mean Absolute Error  Train R Sqaure  Test R Sqaure  \\\n",
       "8                  2.992724        0.787667       0.757505   \n",
       "7                  3.039126        0.959572       0.732840   \n",
       "6                  3.039165        0.959769       0.732603   \n",
       "9                  3.689813        0.693746       0.699784   \n",
       "1                  4.117645        0.692245       0.697934   \n",
       "0                  4.118774        0.692251       0.697878   \n",
       "4                  3.059588        0.700677       0.693383   \n",
       "2                  4.388920        0.677426       0.685522   \n",
       "3                  4.955296        0.642830       0.650939   \n",
       "5                  3.666033        0.995546       0.521786   \n",
       "\n",
       "   Train Adj R Sqaure  Test Adj R Sqaure  \n",
       "8            0.787646           0.757455  \n",
       "7            0.959568           0.732785  \n",
       "6            0.959765           0.732548  \n",
       "9            0.693715           0.699723  \n",
       "1            0.692214           0.697872  \n",
       "0            0.692220           0.697816  \n",
       "4            0.700646           0.693320  \n",
       "2            0.677393           0.685458  \n",
       "3            0.642794           0.650867  \n",
       "5            0.995545           0.521687  "
      ]
     },
     "execution_count": 65,
     "metadata": {},
     "output_type": "execute_result"
    }
   ],
   "source": [
    "frames3 = [all_model,Bagging_report,Hypertuned_rf,Hypertuned_bag]\n",
    "all_records = pd.concat(frames3) \n",
    "all_records.reset_index(inplace=True)\n",
    "all_records.drop('index',axis = 1,inplace = True)\n",
    "all_records.sort_values(by = 'Test R Sqaure',ascending=False)"
   ]
  },
  {
   "cell_type": "markdown",
   "id": "7c1f26c0",
   "metadata": {},
   "source": [
    "### <span style='color:Green'> Store the best model in pickle file </span>\n"
   ]
  },
  {
   "cell_type": "code",
   "execution_count": 66,
   "id": "d6e8422f",
   "metadata": {},
   "outputs": [],
   "source": [
    "import pickle\n",
    "pickle.dump(rf_best_para, open('random_forest_hypertuned.sav','wb'))"
   ]
  },
  {
   "cell_type": "markdown",
   "id": "402bbc20",
   "metadata": {},
   "source": [
    "# <span style='color:red'> Thank you </span>"
   ]
  }
 ],
 "metadata": {
  "kernelspec": {
   "display_name": "Python 3 (ipykernel)",
   "language": "python",
   "name": "python3"
  },
  "language_info": {
   "codemirror_mode": {
    "name": "ipython",
    "version": 3
   },
   "file_extension": ".py",
   "mimetype": "text/x-python",
   "name": "python",
   "nbconvert_exporter": "python",
   "pygments_lexer": "ipython3",
   "version": "3.9.7"
  }
 },
 "nbformat": 4,
 "nbformat_minor": 5
}
